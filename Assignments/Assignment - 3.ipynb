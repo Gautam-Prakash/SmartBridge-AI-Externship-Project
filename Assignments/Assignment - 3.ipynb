{
 "cells": [
  {
   "cell_type": "code",
   "execution_count": 3,
   "metadata": {
    "colab": {
     "base_uri": "https://localhost:8080/"
    },
    "executionInfo": {
     "elapsed": 27046,
     "status": "ok",
     "timestamp": 1686124521872,
     "user": {
      "displayName": "Debarghya Mondal",
      "userId": "05726982114662597778"
     },
     "user_tz": -330
    },
    "id": "ylhfnVZoW5O3",
    "outputId": "75ef571b-9a00-4606-fd8d-2415fb0094da"
   },
   "outputs": [
    {
     "name": "stdout",
     "output_type": "stream",
     "text": [
      "Mounted at /content/gdrive\n"
     ]
    }
   ],
   "source": [
    "from google.colab import drive\n",
    "drive.mount('/content/gdrive')"
   ]
  },
  {
   "cell_type": "code",
   "execution_count": 4,
   "metadata": {
    "colab": {
     "base_uri": "https://localhost:8080/"
    },
    "executionInfo": {
     "elapsed": 15649,
     "status": "ok",
     "timestamp": 1686124537512,
     "user": {
      "displayName": "Debarghya Mondal",
      "userId": "05726982114662597778"
     },
     "user_tz": -330
    },
    "id": "egC_i1VeXsCL",
    "outputId": "eb9c688c-c02c-4312-d2dd-2d3c2d8cc6da"
   },
   "outputs": [
    {
     "name": "stdout",
     "output_type": "stream",
     "text": [
      "Archive:  gdrive/MyDrive/birds/test_data.zip\n",
      "   creating: test_data/\n",
      "   creating: test_data/blasti/\n",
      "  inflating: test_data/blasti/DSC_6396.jpg  \n",
      "  inflating: test_data/blasti/DSC_6397.jpg  \n",
      "  inflating: test_data/blasti/DSC_6398.jpg  \n",
      "  inflating: test_data/blasti/DSC_6399.jpg  \n",
      "  inflating: test_data/blasti/DSC_6400.jpg  \n",
      "  inflating: test_data/blasti/DSC_6401.jpg  \n",
      "  inflating: test_data/blasti/DSC_6402.jpg  \n",
      "  inflating: test_data/blasti/DSC_6403.jpg  \n",
      "  inflating: test_data/blasti/DSC_6405.jpg  \n",
      "  inflating: test_data/blasti/DSC_6406.jpg  \n",
      "  inflating: test_data/blasti/DSC_6407.jpg  \n",
      "  inflating: test_data/blasti/DSC_6408.jpg  \n",
      "  inflating: test_data/blasti/DSC_6409.jpg  \n",
      "  inflating: test_data/blasti/DSC_6410.jpg  \n",
      "  inflating: test_data/blasti/DSC_6411.jpg  \n",
      "   creating: test_data/bonegl/\n",
      "  inflating: test_data/bonegl/DSC_4587.jpg  \n",
      "  inflating: test_data/bonegl/DSC_4588.jpg  \n",
      "  inflating: test_data/bonegl/DSC_4589.jpg  \n",
      "  inflating: test_data/bonegl/DSC_4590.jpg  \n",
      "  inflating: test_data/bonegl/DSC_4591.jpg  \n",
      "  inflating: test_data/bonegl/DSC_4592.jpg  \n",
      "  inflating: test_data/bonegl/DSC_4593.jpg  \n",
      "   creating: test_data/brhkyt/\n",
      "  inflating: test_data/brhkyt/D72_0473.jpg  \n",
      "  inflating: test_data/brhkyt/D72_0474.jpg  \n",
      "  inflating: test_data/brhkyt/D72_0475.jpg  \n",
      "  inflating: test_data/brhkyt/D72_0477.jpg  \n",
      "  inflating: test_data/brhkyt/D72_0478.jpg  \n",
      "  inflating: test_data/brhkyt/D72_0479.jpg  \n",
      "   creating: test_data/cbrtsh/\n",
      "  inflating: test_data/cbrtsh/_D32_10310.jpg  \n",
      "  inflating: test_data/cbrtsh/_D32_10311.jpg  \n",
      "  inflating: test_data/cbrtsh/_D32_10312.jpg  \n",
      "  inflating: test_data/cbrtsh/_D32_10313.jpg  \n",
      "  inflating: test_data/cbrtsh/_D32_10314.jpg  \n",
      "  inflating: test_data/cbrtsh/_D32_10317.jpg  \n",
      "  inflating: test_data/cbrtsh/_D32_10318.jpg  \n",
      "   creating: test_data/cmnmyn/\n",
      "  inflating: test_data/cmnmyn/DSC_2443.jpg  \n",
      "  inflating: test_data/cmnmyn/DSC_4681.jpg  \n",
      "  inflating: test_data/cmnmyn/DSC_5137.jpg  \n",
      "  inflating: test_data/cmnmyn/DSC_7625.jpg  \n",
      "  inflating: test_data/cmnmyn/P1050277.jpg  \n",
      "  inflating: test_data/cmnmyn/_D32_12426.jpg  \n",
      "  inflating: test_data/cmnmyn/_D32_12427.jpg  \n",
      "  inflating: test_data/cmnmyn/_D32_12428.jpg  \n",
      "   creating: test_data/gretit/\n",
      "  inflating: test_data/gretit/11620454726_31a35c26da_o.jpg  \n",
      "  inflating: test_data/gretit/11776135285_ccf938fa2e_o.jpg  \n",
      "  inflating: test_data/gretit/11905645146_6a5d4ff9f9_o.jpg  \n",
      "  inflating: test_data/gretit/8537646712_0b282c4c6a_o.jpg  \n",
      "  inflating: test_data/gretit/D72_0693.jpg  \n",
      "  inflating: test_data/gretit/D72_0694.jpg  \n",
      "  inflating: test_data/gretit/D72_0695.jpg  \n",
      "   creating: test_data/hilpig/\n",
      "  inflating: test_data/hilpig/DSC_6359.jpg  \n",
      "  inflating: test_data/hilpig/DSC_6362.jpg  \n",
      "  inflating: test_data/hilpig/DSC_6364.jpg  \n",
      "  inflating: test_data/hilpig/DSC_6368.jpg  \n",
      "  inflating: test_data/hilpig/DSC_6403.jpg  \n",
      "  inflating: test_data/hilpig/DSC_6404.jpg  \n",
      "  inflating: test_data/hilpig/P1000319.jpg  \n",
      "  inflating: test_data/hilpig/P1000323.jpg  \n",
      "  inflating: test_data/hilpig/P1050044.jpg  \n",
      "  inflating: test_data/hilpig/P1050045.jpg  \n",
      "   creating: test_data/himbul/\n",
      "  inflating: test_data/himbul/11602064885_3826df4500_o.jpg  \n",
      "  inflating: test_data/himbul/11619942574_42f23a7b05_o.jpg  \n",
      "  inflating: test_data/himbul/11620097904_33fa8ee878_o.jpg  \n",
      "  inflating: test_data/himbul/5857371972_ed4f88b275_o.jpg  \n",
      "  inflating: test_data/himbul/6154954471_eefe6e00d1_o.jpg  \n",
      "  inflating: test_data/himbul/D72_0688.jpg  \n",
      "  inflating: test_data/himbul/D72_0691.jpg  \n",
      "  inflating: test_data/himbul/DSC08357.jpg  \n",
      "  inflating: test_data/himbul/DSC_3230.jpg  \n",
      "  inflating: test_data/himbul/DSC_7439.jpg  \n",
      "  inflating: test_data/himbul/DSC_7602.jpg  \n",
      "  inflating: test_data/himbul/P1060368.jpg  \n",
      "  inflating: test_data/himbul/P1060369.jpg  \n",
      "  inflating: test_data/himbul/_D32_10242.jpg  \n",
      "  inflating: test_data/himbul/_D32_10245.jpg  \n",
      "  inflating: test_data/himbul/_D32_10251.jpg  \n",
      "  inflating: test_data/himbul/_D32_10319.jpg  \n",
      "  inflating: test_data/himbul/_D32_10320.jpg  \n",
      "  inflating: test_data/himbul/_DSC9446.jpg  \n",
      "   creating: test_data/himgri/\n",
      "  inflating: test_data/himgri/IMG_5384.JPG  \n",
      "  inflating: test_data/himgri/IMG_5385.JPG  \n",
      "  inflating: test_data/himgri/IMG_5386.JPG  \n",
      "  inflating: test_data/himgri/IMG_5387.JPG  \n",
      "  inflating: test_data/himgri/IMG_5459.JPG  \n",
      "  inflating: test_data/himgri/IMG_5460.JPG  \n",
      "  inflating: test_data/himgri/IMG_5487.JPG  \n",
      "  inflating: test_data/himgri/IMG_5488.JPG  \n",
      "  inflating: test_data/himgri/IMG_5489.JPG  \n",
      "  inflating: test_data/himgri/IMG_5490.JPG  \n",
      "  inflating: test_data/himgri/IMG_5491.JPG  \n",
      "  inflating: test_data/himgri/IMG_5492.JPG  \n",
      "  inflating: test_data/himgri/P1020742.jpg  \n",
      "  inflating: test_data/himgri/P1020743.jpg  \n",
      "  inflating: test_data/himgri/P1020746.jpg  \n",
      "  inflating: test_data/himgri/P1020748.jpg  \n",
      "  inflating: test_data/himgri/P1030055.jpg  \n",
      "  inflating: test_data/himgri/P1060776.jpg  \n",
      "  inflating: test_data/himgri/P1060777.jpg  \n",
      "  inflating: test_data/himgri/P1060778.jpg  \n",
      "   creating: test_data/hsparo/\n",
      "  inflating: test_data/hsparo/100_5573.JPG  \n",
      "  inflating: test_data/hsparo/100_5585.JPG  \n",
      "  inflating: test_data/hsparo/100_5586.JPG  \n",
      "  inflating: test_data/hsparo/100_5742.JPG  \n",
      "  inflating: test_data/hsparo/12265273154_48e0fefd42_o.jpg  \n",
      "  inflating: test_data/hsparo/DSC_4521.jpg  \n",
      "  inflating: test_data/hsparo/DSC_7619.jpg  \n",
      "  inflating: test_data/hsparo/_DSC_11244.jpg  \n",
      "  inflating: test_data/hsparo/_DSC_11246.jpg  \n",
      "   creating: test_data/indvul/\n",
      "  inflating: test_data/indvul/DSC_1263.jpg  \n",
      "  inflating: test_data/indvul/DSC_1273.jpg  \n",
      "  inflating: test_data/indvul/DSC_1274.jpg  \n",
      "  inflating: test_data/indvul/DSC_1275.jpg  \n",
      "  inflating: test_data/indvul/DSC_1277.jpg  \n",
      "  inflating: test_data/indvul/_DSC8754.jpg  \n",
      "  inflating: test_data/indvul/_DSC9520.jpg  \n",
      "  inflating: test_data/indvul/_DSC9521.jpg  \n",
      "  inflating: test_data/indvul/_DSC9523.jpg  \n",
      "   creating: test_data/jglowl/\n",
      "  inflating: test_data/jglowl/_D32_10584.jpg  \n",
      "  inflating: test_data/jglowl/_D32_10587.jpg  \n",
      "  inflating: test_data/jglowl/_D32_10593.jpg  \n",
      "  inflating: test_data/jglowl/_D32_13515.jpg  \n",
      "  inflating: test_data/jglowl/_D32_13516.jpg  \n",
      "  inflating: test_data/jglowl/_D32_13517.jpg  \n",
      "   creating: test_data/lbicrw/\n",
      "  inflating: test_data/lbicrw/100_4917.JPG  \n",
      "  inflating: test_data/lbicrw/IMG_5538.JPG  \n",
      "  inflating: test_data/lbicrw/IMG_5541.JPG  \n",
      "  inflating: test_data/lbicrw/IMG_5543.JPG  \n",
      "  inflating: test_data/lbicrw/IMG_5544.JPG  \n",
      "  inflating: test_data/lbicrw/P1030030.jpg  \n",
      "   creating: test_data/mgprob/\n",
      "  inflating: test_data/mgprob/100_5811.JPG  \n",
      "  inflating: test_data/mgprob/100_5812.JPG  \n",
      "  inflating: test_data/mgprob/100_5813.JPG  \n",
      "  inflating: test_data/mgprob/DSC_3233.jpg  \n",
      "  inflating: test_data/mgprob/_DSC0085.jpg  \n",
      "  inflating: test_data/mgprob/_DSC0133.jpg  \n",
      "  inflating: test_data/mgprob/_DSC0135.jpg  \n",
      "   creating: test_data/rebimg/\n",
      "  inflating: test_data/rebimg/100_5756.JPG  \n",
      "  inflating: test_data/rebimg/100_5757.JPG  \n",
      "  inflating: test_data/rebimg/100_5758.JPG  \n",
      "  inflating: test_data/rebimg/100_5759.JPG  \n",
      "  inflating: test_data/rebimg/100_5760.JPG  \n",
      "  inflating: test_data/rebimg/13009302395_5d88a9d62b_o.jpg  \n",
      "  inflating: test_data/rebimg/13009315305_f1cbfb6767_o.jpg  \n",
      "  inflating: test_data/rebimg/13009451823_8eb502581f_o.jpg  \n",
      "  inflating: test_data/rebimg/DSC_7148.jpg  \n",
      "  inflating: test_data/rebimg/IMG_5251.JPG  \n",
      "  inflating: test_data/rebimg/IMG_5252.JPG  \n",
      "   creating: test_data/wcrsrt/\n",
      "  inflating: test_data/wcrsrt/100_4462.JPG  \n",
      "  inflating: test_data/wcrsrt/100_4463.JPG  \n",
      "  inflating: test_data/wcrsrt/100_4464.JPG  \n",
      "  inflating: test_data/wcrsrt/100_4466.JPG  \n",
      "  inflating: test_data/wcrsrt/100_4467.JPG  \n",
      "  inflating: test_data/wcrsrt/100_4468.JPG  \n",
      "  inflating: test_data/wcrsrt/100_5103.JPG  \n",
      "  inflating: test_data/wcrsrt/100_5105.JPG  \n",
      "  inflating: test_data/wcrsrt/11382677585_ef6570a041_o.jpg  \n",
      "  inflating: test_data/wcrsrt/11382746854_7ce73793b3_o.jpg  \n"
     ]
    }
   ],
   "source": [
    "!unzip gdrive/MyDrive/birds/test_data.zip\n"
   ]
  },
  {
   "cell_type": "code",
   "execution_count": 5,
   "metadata": {
    "colab": {
     "base_uri": "https://localhost:8080/"
    },
    "executionInfo": {
     "elapsed": 12126,
     "status": "ok",
     "timestamp": 1686124549620,
     "user": {
      "displayName": "Debarghya Mondal",
      "userId": "05726982114662597778"
     },
     "user_tz": -330
    },
    "id": "pGylLEqtYIOY",
    "outputId": "e6975f89-8f49-4065-f17a-092ab36e8c7b"
   },
   "outputs": [
    {
     "name": "stdout",
     "output_type": "stream",
     "text": [
      "Archive:  gdrive/MyDrive/birds/train_data.zip\n",
      "   creating: train_data/\n",
      "   creating: train_data/blasti/\n",
      "  inflating: train_data/blasti/DSC_6382.jpg  \n",
      "  inflating: train_data/blasti/DSC_6383.jpg  \n",
      "  inflating: train_data/blasti/DSC_6384-2.jpg  \n",
      "  inflating: train_data/blasti/DSC_6384.jpg  \n",
      "  inflating: train_data/blasti/DSC_6385.jpg  \n",
      "  inflating: train_data/blasti/DSC_6386.jpg  \n",
      "  inflating: train_data/blasti/DSC_6387.jpg  \n",
      "  inflating: train_data/blasti/DSC_6388.jpg  \n",
      "  inflating: train_data/blasti/DSC_6389.jpg  \n",
      "  inflating: train_data/blasti/DSC_6390.jpg  \n",
      "  inflating: train_data/blasti/DSC_6391.jpg  \n",
      "  inflating: train_data/blasti/DSC_6392.jpg  \n",
      "  inflating: train_data/blasti/DSC_6393.jpg  \n",
      "  inflating: train_data/blasti/DSC_6394.jpg  \n",
      "  inflating: train_data/blasti/DSC_6395.jpg  \n",
      "   creating: train_data/bonegl/\n",
      "  inflating: train_data/bonegl/DSC_4570.jpg  \n",
      "  inflating: train_data/bonegl/DSC_4571.jpg  \n",
      "  inflating: train_data/bonegl/DSC_4583.jpg  \n",
      "  inflating: train_data/bonegl/DSC_4584.jpg  \n",
      "  inflating: train_data/bonegl/DSC_4585.jpg  \n",
      "  inflating: train_data/bonegl/DSC_4586.jpg  \n",
      "   creating: train_data/brhkyt/\n",
      "  inflating: train_data/brhkyt/D72_0400.jpg  \n",
      "  inflating: train_data/brhkyt/D72_0401.jpg  \n",
      "  inflating: train_data/brhkyt/D72_0470.jpg  \n",
      "  inflating: train_data/brhkyt/D72_0471.jpg  \n",
      "  inflating: train_data/brhkyt/D72_0472.jpg  \n",
      "   creating: train_data/cbrtsh/\n",
      "  inflating: train_data/cbrtsh/100_5097.JPG  \n",
      "  inflating: train_data/cbrtsh/_D32_10303.jpg  \n",
      "  inflating: train_data/cbrtsh/_D32_10305.jpg  \n",
      "  inflating: train_data/cbrtsh/_D32_10306.jpg  \n",
      "  inflating: train_data/cbrtsh/_D32_10307.jpg  \n",
      "  inflating: train_data/cbrtsh/_D32_10308.jpg  \n",
      "  inflating: train_data/cbrtsh/_D32_10309.jpg  \n",
      "   creating: train_data/cmnmyn/\n",
      "  inflating: train_data/cmnmyn/100_5763.JPG  \n",
      "  inflating: train_data/cmnmyn/5866682091_870ccc946c_o.jpg  \n",
      "  inflating: train_data/cmnmyn/6154956165_64266b8b53_o.jpg  \n",
      "  inflating: train_data/cmnmyn/DSCN5784.jpg  \n",
      "  inflating: train_data/cmnmyn/DSCN5787.jpg  \n",
      "  inflating: train_data/cmnmyn/DSCN5790.jpg  \n",
      "  inflating: train_data/cmnmyn/DSCN5791.jpg  \n",
      "   creating: train_data/gretit/\n",
      "  inflating: train_data/gretit/100_5042.JPG  \n",
      "  inflating: train_data/gretit/100_5043.JPG  \n",
      "  inflating: train_data/gretit/100_5044.JPG  \n",
      "  inflating: train_data/gretit/100_5045.JPG  \n",
      "  inflating: train_data/gretit/100_5046.JPG  \n",
      "  inflating: train_data/gretit/100_5047.JPG  \n",
      "   creating: train_data/hilpig/\n",
      "  inflating: train_data/hilpig/DSC_6272.jpg  \n",
      "  inflating: train_data/hilpig/DSC_6273.jpg  \n",
      "  inflating: train_data/hilpig/DSC_6274.jpg  \n",
      "  inflating: train_data/hilpig/DSC_6275.jpg  \n",
      "  inflating: train_data/hilpig/DSC_6350.jpg  \n",
      "  inflating: train_data/hilpig/DSC_6351.jpg  \n",
      "  inflating: train_data/hilpig/DSC_6352.jpg  \n",
      "  inflating: train_data/hilpig/DSC_6353.jpg  \n",
      "  inflating: train_data/hilpig/DSC_6354.jpg  \n",
      "  inflating: train_data/hilpig/DSC_6358.jpg  \n",
      "   creating: train_data/himbul/\n",
      "  inflating: train_data/himbul/100_5028.JPG  \n",
      "  inflating: train_data/himbul/100_5029.JPG  \n",
      "  inflating: train_data/himbul/100_5096.JPG  \n",
      "  inflating: train_data/himbul/100_5099.JPG  \n",
      "  inflating: train_data/himbul/100_5100.JPG  \n",
      "  inflating: train_data/himbul/100_5102.JPG  \n",
      "  inflating: train_data/himbul/100_5110.JPG  \n",
      "  inflating: train_data/himbul/100_5112.JPG  \n",
      "  inflating: train_data/himbul/100_5113.JPG  \n",
      "  inflating: train_data/himbul/100_5159.JPG  \n",
      "  inflating: train_data/himbul/100_5160.JPG  \n",
      "  inflating: train_data/himbul/100_5161.JPG  \n",
      "  inflating: train_data/himbul/100_5162.JPG  \n",
      "  inflating: train_data/himbul/10774570945_9bc537c255_o.jpg  \n",
      "  inflating: train_data/himbul/11383838134_96e891a316_o.jpg  \n",
      "  inflating: train_data/himbul/11383857084_cdd7514746_o.jpg  \n",
      "  inflating: train_data/himbul/11387473723_464965720a_o.jpg  \n",
      "  inflating: train_data/himbul/9007817678_24db19fc63_o.jpg  \n",
      "   creating: train_data/himgri/\n",
      "  inflating: train_data/himgri/12029790563_2fe54a68aa_o.jpg  \n",
      "  inflating: train_data/himgri/12029822653_1185544e7b_o.jpg  \n",
      "  inflating: train_data/himgri/12029933015_802428e277_o.jpg  \n",
      "  inflating: train_data/himgri/12029987304_031b7a2d53_o.jpg  \n",
      "  inflating: train_data/himgri/12030165813_f5341e8ed0_o.jpg  \n",
      "  inflating: train_data/himgri/12030221124_1baaf905d1_o.jpg  \n",
      "  inflating: train_data/himgri/12030269234_1c3f5a8e8c_o.jpg  \n",
      "  inflating: train_data/himgri/12152037683_13e1556c41_o.jpg  \n",
      "  inflating: train_data/himgri/12152178844_dc29e3126f_o.jpg  \n",
      "  inflating: train_data/himgri/12152510436_23b62fed3b_o.jpg  \n",
      "  inflating: train_data/himgri/12265055185_138e3c7c70_o.jpg  \n",
      "  inflating: train_data/himgri/12265498144_d2e80faa3b_o.jpg  \n",
      "  inflating: train_data/himgri/12265561764_4814951031_o.jpg  \n",
      "  inflating: train_data/himgri/12265582724_61cb64e73a_o.jpg  \n",
      "  inflating: train_data/himgri/12265738206_2b9b25cc8a_o.jpg  \n",
      "  inflating: train_data/himgri/12265747116_d4b4fa3741_o.jpg  \n",
      "  inflating: train_data/himgri/12266053036_fcab92d8e8_o.jpg  \n",
      "  inflating: train_data/himgri/12266077576_1d7143aaf7_o.jpg  \n",
      "  inflating: train_data/himgri/12266086526_82cd337667_o.jpg  \n",
      "  inflating: train_data/himgri/IMG_5463.JPG  \n",
      "   creating: train_data/hsparo/\n",
      "  inflating: train_data/hsparo/100_4757.JPG  \n",
      "  inflating: train_data/hsparo/100_4758.JPG  \n",
      "  inflating: train_data/hsparo/100_5039.JPG  \n",
      "  inflating: train_data/hsparo/100_5040.JPG  \n",
      "  inflating: train_data/hsparo/100_5041.JPG  \n",
      "  inflating: train_data/hsparo/100_5048.JPG  \n",
      "  inflating: train_data/hsparo/100_5049.JPG  \n",
      "  inflating: train_data/hsparo/100_5050.JPG  \n",
      "  inflating: train_data/hsparo/100_5572.JPG  \n",
      "   creating: train_data/indvul/\n",
      "  inflating: train_data/indvul/DSC_0502.jpg  \n",
      "  inflating: train_data/indvul/DSC_0571e.jpg  \n",
      "  inflating: train_data/indvul/DSC_0572.jpg  \n",
      "  inflating: train_data/indvul/DSC_0576e.jpg  \n",
      "  inflating: train_data/indvul/DSC_0582.jpg  \n",
      "  inflating: train_data/indvul/DSC_0583e.jpg  \n",
      "  inflating: train_data/indvul/DSC_0584.jpg  \n",
      "  inflating: train_data/indvul/DSC_0616c.jpg  \n",
      "  inflating: train_data/indvul/DSC_0617.jpg  \n",
      "   creating: train_data/jglowl/\n",
      "  inflating: train_data/jglowl/12152151476_7a1524aabb_o.jpg  \n",
      "  inflating: train_data/jglowl/DSC01335.jpg  \n",
      "  inflating: train_data/jglowl/DSC01336.jpg  \n",
      "  inflating: train_data/jglowl/_D32_10285.jpg  \n",
      "  inflating: train_data/jglowl/_D32_10578.jpg  \n",
      "  inflating: train_data/jglowl/_D32_10583.jpg  \n",
      "   creating: train_data/lbicrw/\n",
      "  inflating: train_data/lbicrw/100_4037.JPG  \n",
      "  inflating: train_data/lbicrw/100_4912.JPG  \n",
      "  inflating: train_data/lbicrw/100_4913.JPG  \n",
      "  inflating: train_data/lbicrw/100_4914.JPG  \n",
      "  inflating: train_data/lbicrw/100_4915.JPG  \n",
      "  inflating: train_data/lbicrw/100_4916.JPG  \n",
      "   creating: train_data/mgprob/\n",
      "  inflating: train_data/mgprob/100_5587.JPG  \n",
      "  inflating: train_data/mgprob/100_5588.JPG  \n",
      "  inflating: train_data/mgprob/100_5589.JPG  \n",
      "  inflating: train_data/mgprob/100_5590.JPG  \n",
      "  inflating: train_data/mgprob/100_5592.JPG  \n",
      "  inflating: train_data/mgprob/100_5762.JPG  \n",
      "   creating: train_data/rebimg/\n",
      "  inflating: train_data/rebimg/100_5744.JPG  \n",
      "  inflating: train_data/rebimg/100_5745.JPG  \n",
      "  inflating: train_data/rebimg/100_5746.JPG  \n",
      "  inflating: train_data/rebimg/100_5748.JPG  \n",
      "  inflating: train_data/rebimg/100_5749.JPG  \n",
      "  inflating: train_data/rebimg/100_5750.JPG  \n",
      "  inflating: train_data/rebimg/100_5751.JPG  \n",
      "  inflating: train_data/rebimg/100_5752.JPG  \n",
      "  inflating: train_data/rebimg/100_5754.JPG  \n",
      "  inflating: train_data/rebimg/100_5755.JPG  \n",
      "   creating: train_data/wcrsrt/\n",
      "  inflating: train_data/wcrsrt/100_4452.JPG  \n",
      "  inflating: train_data/wcrsrt/100_4453.JPG  \n",
      "  inflating: train_data/wcrsrt/100_4454.JPG  \n",
      "  inflating: train_data/wcrsrt/100_4455.JPG  \n",
      "  inflating: train_data/wcrsrt/100_4456.JPG  \n",
      "  inflating: train_data/wcrsrt/100_4457.JPG  \n",
      "  inflating: train_data/wcrsrt/100_4458.JPG  \n",
      "  inflating: train_data/wcrsrt/100_4459.JPG  \n",
      "  inflating: train_data/wcrsrt/100_4460.JPG  \n",
      "  inflating: train_data/wcrsrt/100_4461.JPG  \n"
     ]
    }
   ],
   "source": [
    "!unzip gdrive/MyDrive/birds/train_data.zip"
   ]
  },
  {
   "cell_type": "code",
   "execution_count": 6,
   "metadata": {
    "executionInfo": {
     "elapsed": 2743,
     "status": "ok",
     "timestamp": 1686124552335,
     "user": {
      "displayName": "Debarghya Mondal",
      "userId": "05726982114662597778"
     },
     "user_tz": -330
    },
    "id": "9spTX7NgYU24"
   },
   "outputs": [],
   "source": [
    "from tensorflow.keras.layers import Dense,Flatten,Input\n",
    "from tensorflow.keras.models import Model\n",
    "from tensorflow.keras.preprocessing import image\n",
    "from tensorflow.keras.preprocessing.image import ImageDataGenerator, load_img\n",
    "import numpy as np"
   ]
  },
  {
   "cell_type": "code",
   "execution_count": 7,
   "metadata": {
    "executionInfo": {
     "elapsed": 21,
     "status": "ok",
     "timestamp": 1686124552336,
     "user": {
      "displayName": "Debarghya Mondal",
      "userId": "05726982114662597778"
     },
     "user_tz": -330
    },
    "id": "Jv1Y6XjOYV-L"
   },
   "outputs": [],
   "source": [
    "train_path = '/content/train_data'\n",
    "test_path = '/content/test_data'"
   ]
  },
  {
   "cell_type": "code",
   "execution_count": 8,
   "metadata": {
    "executionInfo": {
     "elapsed": 19,
     "status": "ok",
     "timestamp": 1686124552337,
     "user": {
      "displayName": "Debarghya Mondal",
      "userId": "05726982114662597778"
     },
     "user_tz": -330
    },
    "id": "s1-DiAL5Yr_Q"
   },
   "outputs": [],
   "source": [
    "train_gen = ImageDataGenerator(rescale=1./255,\n",
    "                               shear_range=0.2,\n",
    "                               zoom_range=0.2,\n",
    "                               horizontal_flip=True)\n",
    "\n",
    "test_gen = ImageDataGenerator(rescale=1./255) "
   ]
  },
  {
   "cell_type": "code",
   "execution_count": 9,
   "metadata": {
    "colab": {
     "base_uri": "https://localhost:8080/"
    },
    "executionInfo": {
     "elapsed": 21,
     "status": "ok",
     "timestamp": 1686124552340,
     "user": {
      "displayName": "Debarghya Mondal",
      "userId": "05726982114662597778"
     },
     "user_tz": -330
    },
    "id": "puJBSC5cYxNR",
    "outputId": "53a3b7e4-5f11-4c01-fb5d-aa2a95295d7a"
   },
   "outputs": [
    {
     "name": "stdout",
     "output_type": "stream",
     "text": [
      "Found 150 images belonging to 16 classes.\n",
      "Found 157 images belonging to 16 classes.\n"
     ]
    }
   ],
   "source": [
    "train = train_gen.flow_from_directory(train_path,\n",
    "                                      target_size=(224,224),\n",
    "                                      batch_size=22,\n",
    "                                      class_mode='categorical')\n",
    "\n",
    "test = test_gen.flow_from_directory(test_path,\n",
    "                                      target_size=(224,224),\n",
    "                                      batch_size=22,\n",
    "                                      class_mode='categorical')\n"
   ]
  },
  {
   "cell_type": "markdown",
   "metadata": {
    "id": "D6zri2WLY9MB"
   },
   "source": [
    "##VGG16\n"
   ]
  },
  {
   "cell_type": "code",
   "execution_count": 10,
   "metadata": {
    "executionInfo": {
     "elapsed": 17,
     "status": "ok",
     "timestamp": 1686124552342,
     "user": {
      "displayName": "Debarghya Mondal",
      "userId": "05726982114662597778"
     },
     "user_tz": -330
    },
    "id": "sdTSZmT7ZBXO"
   },
   "outputs": [],
   "source": [
    "from tensorflow.keras.applications.vgg16 import VGG16, preprocess_input"
   ]
  },
  {
   "cell_type": "code",
   "execution_count": 11,
   "metadata": {
    "colab": {
     "base_uri": "https://localhost:8080/"
    },
    "executionInfo": {
     "elapsed": 6144,
     "status": "ok",
     "timestamp": 1686124558470,
     "user": {
      "displayName": "Debarghya Mondal",
      "userId": "05726982114662597778"
     },
     "user_tz": -330
    },
    "id": "aHxuN_TIZGA7",
    "outputId": "233fd4cb-74aa-4b62-e9d6-e4097f16ce54"
   },
   "outputs": [
    {
     "name": "stdout",
     "output_type": "stream",
     "text": [
      "Downloading data from https://storage.googleapis.com/tensorflow/keras-applications/vgg16/vgg16_weights_tf_dim_ordering_tf_kernels_notop.h5\n",
      "58889256/58889256 [==============================] - 2s 0us/step\n"
     ]
    }
   ],
   "source": [
    "vgg = VGG16(include_top=False,weights='imagenet',input_shape=(224,224,3))"
   ]
  },
  {
   "cell_type": "code",
   "execution_count": 12,
   "metadata": {
    "colab": {
     "base_uri": "https://localhost:8080/"
    },
    "executionInfo": {
     "elapsed": 42,
     "status": "ok",
     "timestamp": 1686124558471,
     "user": {
      "displayName": "Debarghya Mondal",
      "userId": "05726982114662597778"
     },
     "user_tz": -330
    },
    "id": "xddl0852ZO4Q",
    "outputId": "02f99517-aaef-4b0e-ccd1-9d5eb7265c32"
   },
   "outputs": [
    {
     "name": "stdout",
     "output_type": "stream",
     "text": [
      "<keras.engine.input_layer.InputLayer object at 0x7f56f7406320>\n",
      "<keras.layers.convolutional.conv2d.Conv2D object at 0x7f56f7407be0>\n",
      "<keras.layers.convolutional.conv2d.Conv2D object at 0x7f56f7448b50>\n",
      "<keras.layers.pooling.max_pooling2d.MaxPooling2D object at 0x7f56f7448c40>\n",
      "<keras.layers.convolutional.conv2d.Conv2D object at 0x7f56f7449870>\n",
      "<keras.layers.convolutional.conv2d.Conv2D object at 0x7f56f744a6e0>\n",
      "<keras.layers.pooling.max_pooling2d.MaxPooling2D object at 0x7f56f744b760>\n",
      "<keras.layers.convolutional.conv2d.Conv2D object at 0x7f56f744ac50>\n",
      "<keras.layers.convolutional.conv2d.Conv2D object at 0x7f56f744bfd0>\n",
      "<keras.layers.convolutional.conv2d.Conv2D object at 0x7f56f7448580>\n",
      "<keras.layers.pooling.max_pooling2d.MaxPooling2D object at 0x7f56f5364f70>\n",
      "<keras.layers.convolutional.conv2d.Conv2D object at 0x7f56f53661a0>\n",
      "<keras.layers.convolutional.conv2d.Conv2D object at 0x7f56f5367010>\n",
      "<keras.layers.convolutional.conv2d.Conv2D object at 0x7f56f5366d70>\n",
      "<keras.layers.pooling.max_pooling2d.MaxPooling2D object at 0x7f56f5380640>\n",
      "<keras.layers.convolutional.conv2d.Conv2D object at 0x7f56f5365f90>\n",
      "<keras.layers.convolutional.conv2d.Conv2D object at 0x7f56f5366710>\n",
      "<keras.layers.convolutional.conv2d.Conv2D object at 0x7f56f5382320>\n",
      "<keras.layers.pooling.max_pooling2d.MaxPooling2D object at 0x7f56f53833d0>\n"
     ]
    }
   ],
   "source": [
    "for layer in vgg.layers:\n",
    "  print(layer)"
   ]
  },
  {
   "cell_type": "code",
   "execution_count": 13,
   "metadata": {
    "executionInfo": {
     "elapsed": 38,
     "status": "ok",
     "timestamp": 1686124558471,
     "user": {
      "displayName": "Debarghya Mondal",
      "userId": "05726982114662597778"
     },
     "user_tz": -330
    },
    "id": "HoRuYqDqZXbI"
   },
   "outputs": [],
   "source": [
    "for layer in vgg.layers:\n",
    "  layer.trainable=False"
   ]
  },
  {
   "cell_type": "code",
   "execution_count": 14,
   "metadata": {
    "executionInfo": {
     "elapsed": 38,
     "status": "ok",
     "timestamp": 1686124558472,
     "user": {
      "displayName": "Debarghya Mondal",
      "userId": "05726982114662597778"
     },
     "user_tz": -330
    },
    "id": "etGrrJkCZao4"
   },
   "outputs": [],
   "source": [
    "x = Flatten()(vgg.output)"
   ]
  },
  {
   "cell_type": "code",
   "execution_count": 15,
   "metadata": {
    "executionInfo": {
     "elapsed": 37,
     "status": "ok",
     "timestamp": 1686124558472,
     "user": {
      "displayName": "Debarghya Mondal",
      "userId": "05726982114662597778"
     },
     "user_tz": -330
    },
    "id": "eam6ad_-Zdnw"
   },
   "outputs": [],
   "source": [
    "prediction = Dense(16,activation='softmax')(x)"
   ]
  },
  {
   "cell_type": "code",
   "execution_count": 16,
   "metadata": {
    "executionInfo": {
     "elapsed": 38,
     "status": "ok",
     "timestamp": 1686124558473,
     "user": {
      "displayName": "Debarghya Mondal",
      "userId": "05726982114662597778"
     },
     "user_tz": -330
    },
    "id": "AMWJM0LPZiNB"
   },
   "outputs": [],
   "source": [
    "model = Model(inputs=vgg.input,outputs=prediction)"
   ]
  },
  {
   "cell_type": "code",
   "execution_count": 17,
   "metadata": {
    "colab": {
     "base_uri": "https://localhost:8080/"
    },
    "executionInfo": {
     "elapsed": 595,
     "status": "ok",
     "timestamp": 1686124559031,
     "user": {
      "displayName": "Debarghya Mondal",
      "userId": "05726982114662597778"
     },
     "user_tz": -330
    },
    "id": "5jRWGw5xZlgZ",
    "outputId": "b512e42b-5449-4b14-919c-3c9e1b90b5b1"
   },
   "outputs": [
    {
     "name": "stdout",
     "output_type": "stream",
     "text": [
      "Model: \"model\"\n",
      "_________________________________________________________________\n",
      " Layer (type)                Output Shape              Param #   \n",
      "=================================================================\n",
      " input_1 (InputLayer)        [(None, 224, 224, 3)]     0         \n",
      "                                                                 \n",
      " block1_conv1 (Conv2D)       (None, 224, 224, 64)      1792      \n",
      "                                                                 \n",
      " block1_conv2 (Conv2D)       (None, 224, 224, 64)      36928     \n",
      "                                                                 \n",
      " block1_pool (MaxPooling2D)  (None, 112, 112, 64)      0         \n",
      "                                                                 \n",
      " block2_conv1 (Conv2D)       (None, 112, 112, 128)     73856     \n",
      "                                                                 \n",
      " block2_conv2 (Conv2D)       (None, 112, 112, 128)     147584    \n",
      "                                                                 \n",
      " block2_pool (MaxPooling2D)  (None, 56, 56, 128)       0         \n",
      "                                                                 \n",
      " block3_conv1 (Conv2D)       (None, 56, 56, 256)       295168    \n",
      "                                                                 \n",
      " block3_conv2 (Conv2D)       (None, 56, 56, 256)       590080    \n",
      "                                                                 \n",
      " block3_conv3 (Conv2D)       (None, 56, 56, 256)       590080    \n",
      "                                                                 \n",
      " block3_pool (MaxPooling2D)  (None, 28, 28, 256)       0         \n",
      "                                                                 \n",
      " block4_conv1 (Conv2D)       (None, 28, 28, 512)       1180160   \n",
      "                                                                 \n",
      " block4_conv2 (Conv2D)       (None, 28, 28, 512)       2359808   \n",
      "                                                                 \n",
      " block4_conv3 (Conv2D)       (None, 28, 28, 512)       2359808   \n",
      "                                                                 \n",
      " block4_pool (MaxPooling2D)  (None, 14, 14, 512)       0         \n",
      "                                                                 \n",
      " block5_conv1 (Conv2D)       (None, 14, 14, 512)       2359808   \n",
      "                                                                 \n",
      " block5_conv2 (Conv2D)       (None, 14, 14, 512)       2359808   \n",
      "                                                                 \n",
      " block5_conv3 (Conv2D)       (None, 14, 14, 512)       2359808   \n",
      "                                                                 \n",
      " block5_pool (MaxPooling2D)  (None, 7, 7, 512)         0         \n",
      "                                                                 \n",
      " flatten (Flatten)           (None, 25088)             0         \n",
      "                                                                 \n",
      " dense (Dense)               (None, 16)                401424    \n",
      "                                                                 \n",
      "=================================================================\n",
      "Total params: 15,116,112\n",
      "Trainable params: 401,424\n",
      "Non-trainable params: 14,714,688\n",
      "_________________________________________________________________\n"
     ]
    }
   ],
   "source": [
    "model.summary()"
   ]
  },
  {
   "cell_type": "code",
   "execution_count": 18,
   "metadata": {
    "executionInfo": {
     "elapsed": 12,
     "status": "ok",
     "timestamp": 1686124559032,
     "user": {
      "displayName": "Debarghya Mondal",
      "userId": "05726982114662597778"
     },
     "user_tz": -330
    },
    "id": "vCpDi_pRZoHh"
   },
   "outputs": [],
   "source": [
    "model.compile(loss='categorical_crossentropy',optimizer='adam',metrics=['accuracy'])"
   ]
  },
  {
   "cell_type": "code",
   "execution_count": 19,
   "metadata": {
    "colab": {
     "base_uri": "https://localhost:8080/"
    },
    "executionInfo": {
     "elapsed": 1301747,
     "status": "ok",
     "timestamp": 1686125860768,
     "user": {
      "displayName": "Debarghya Mondal",
      "userId": "05726982114662597778"
     },
     "user_tz": -330
    },
    "id": "N3d2a-xFZvmR",
    "outputId": "60a0fd3a-2719-4275-f815-74b90755a4c8"
   },
   "outputs": [
    {
     "name": "stderr",
     "output_type": "stream",
     "text": [
      "<ipython-input-19-c19f13cb6f36>:1: UserWarning: `Model.fit_generator` is deprecated and will be removed in a future version. Please use `Model.fit`, which supports generators.\n",
      "  model.fit_generator(train,validation_data=test,epochs=10,steps_per_epoch=len(train),validation_steps=len(test))\n"
     ]
    },
    {
     "name": "stdout",
     "output_type": "stream",
     "text": [
      "Epoch 1/10\n",
      "7/7 [==============================] - 108s 15s/step - loss: 3.9631 - accuracy: 0.1400 - val_loss: 3.2677 - val_accuracy: 0.1847\n",
      "Epoch 2/10\n",
      "7/7 [==============================] - 91s 14s/step - loss: 1.9688 - accuracy: 0.4600 - val_loss: 2.9406 - val_accuracy: 0.2484\n",
      "Epoch 3/10\n",
      "7/7 [==============================] - 92s 14s/step - loss: 0.9985 - accuracy: 0.6867 - val_loss: 3.1222 - val_accuracy: 0.3185\n",
      "Epoch 4/10\n",
      "7/7 [==============================] - 121s 19s/step - loss: 0.7099 - accuracy: 0.7933 - val_loss: 2.8847 - val_accuracy: 0.3631\n",
      "Epoch 5/10\n",
      "7/7 [==============================] - 92s 15s/step - loss: 0.3683 - accuracy: 0.9000 - val_loss: 2.9352 - val_accuracy: 0.3503\n",
      "Epoch 6/10\n",
      "7/7 [==============================] - 88s 14s/step - loss: 0.2516 - accuracy: 0.9467 - val_loss: 2.9953 - val_accuracy: 0.3567\n",
      "Epoch 7/10\n",
      "7/7 [==============================] - 92s 15s/step - loss: 0.1970 - accuracy: 0.9467 - val_loss: 3.0808 - val_accuracy: 0.3694\n",
      "Epoch 8/10\n",
      "7/7 [==============================] - 93s 15s/step - loss: 0.1391 - accuracy: 0.9733 - val_loss: 3.1347 - val_accuracy: 0.3694\n",
      "Epoch 9/10\n",
      "7/7 [==============================] - 91s 14s/step - loss: 0.0923 - accuracy: 1.0000 - val_loss: 2.8206 - val_accuracy: 0.4204\n",
      "Epoch 10/10\n",
      "7/7 [==============================] - 123s 20s/step - loss: 0.0668 - accuracy: 1.0000 - val_loss: 2.8776 - val_accuracy: 0.4140\n"
     ]
    },
    {
     "data": {
      "text/plain": [
       "<keras.callbacks.History at 0x7f56f40d2e60>"
      ]
     },
     "execution_count": 19,
     "metadata": {},
     "output_type": "execute_result"
    }
   ],
   "source": [
    "model.fit_generator(train,validation_data=test,epochs=10,steps_per_epoch=len(train),validation_steps=len(test))"
   ]
  },
  {
   "cell_type": "markdown",
   "metadata": {
    "id": "QPhJrbdcbb7Y"
   },
   "source": [
    "##ResNet50"
   ]
  },
  {
   "cell_type": "code",
   "execution_count": 20,
   "metadata": {
    "executionInfo": {
     "elapsed": 35,
     "status": "ok",
     "timestamp": 1686125860769,
     "user": {
      "displayName": "Debarghya Mondal",
      "userId": "05726982114662597778"
     },
     "user_tz": -330
    },
    "id": "f4_T3qOBbfZf"
   },
   "outputs": [],
   "source": [
    "from tensorflow.keras.applications.resnet50 import ResNet50"
   ]
  },
  {
   "cell_type": "code",
   "execution_count": 21,
   "metadata": {
    "colab": {
     "base_uri": "https://localhost:8080/"
    },
    "executionInfo": {
     "elapsed": 4556,
     "status": "ok",
     "timestamp": 1686125865314,
     "user": {
      "displayName": "Debarghya Mondal",
      "userId": "05726982114662597778"
     },
     "user_tz": -330
    },
    "id": "1rQ3os9abiSI",
    "outputId": "a6076239-8381-45a3-9ea9-761aeed6aa09"
   },
   "outputs": [
    {
     "name": "stdout",
     "output_type": "stream",
     "text": [
      "Downloading data from https://storage.googleapis.com/tensorflow/keras-applications/resnet/resnet50_weights_tf_dim_ordering_tf_kernels_notop.h5\n",
      "94765736/94765736 [==============================] - 3s 0us/step\n"
     ]
    }
   ],
   "source": [
    "resnet = ResNet50(include_top=False,input_shape=(224,224,3))"
   ]
  },
  {
   "cell_type": "code",
   "execution_count": 22,
   "metadata": {
    "colab": {
     "base_uri": "https://localhost:8080/"
    },
    "executionInfo": {
     "elapsed": 10,
     "status": "ok",
     "timestamp": 1686125865314,
     "user": {
      "displayName": "Debarghya Mondal",
      "userId": "05726982114662597778"
     },
     "user_tz": -330
    },
    "id": "X4XZEkOfbmJX",
    "outputId": "779da72d-b8a8-4686-dfda-852cbd0f8eac"
   },
   "outputs": [
    {
     "name": "stdout",
     "output_type": "stream",
     "text": [
      "<keras.engine.input_layer.InputLayer object at 0x7f56f40d3bb0>\n",
      "<keras.layers.reshaping.zero_padding2d.ZeroPadding2D object at 0x7f56f539a950>\n",
      "<keras.layers.convolutional.conv2d.Conv2D object at 0x7f5667f17d60>\n",
      "<keras.layers.normalization.batch_normalization.BatchNormalization object at 0x7f56f539bb20>\n",
      "<keras.layers.core.activation.Activation object at 0x7f5667f17820>\n",
      "<keras.layers.reshaping.zero_padding2d.ZeroPadding2D object at 0x7f5667f17970>\n",
      "<keras.layers.pooling.max_pooling2d.MaxPooling2D object at 0x7f5667f24ac0>\n",
      "<keras.layers.convolutional.conv2d.Conv2D object at 0x7f5667f26ec0>\n",
      "<keras.layers.normalization.batch_normalization.BatchNormalization object at 0x7f5667f27dc0>\n",
      "<keras.layers.core.activation.Activation object at 0x7f5667f24f70>\n",
      "<keras.layers.convolutional.conv2d.Conv2D object at 0x7f5667f252a0>\n",
      "<keras.layers.normalization.batch_normalization.BatchNormalization object at 0x7f5667f54850>\n",
      "<keras.layers.core.activation.Activation object at 0x7f5667f57a60>\n",
      "<keras.layers.convolutional.conv2d.Conv2D object at 0x7f56f7cd8c70>\n",
      "<keras.layers.convolutional.conv2d.Conv2D object at 0x7f5667f57190>\n",
      "<keras.layers.normalization.batch_normalization.BatchNormalization object at 0x7f5667f27280>\n",
      "<keras.layers.normalization.batch_normalization.BatchNormalization object at 0x7f5667f56080>\n",
      "<keras.layers.merging.add.Add object at 0x7f56f539aa40>\n",
      "<keras.layers.core.activation.Activation object at 0x7f56f7d1f0a0>\n",
      "<keras.layers.convolutional.conv2d.Conv2D object at 0x7f5667f25510>\n",
      "<keras.layers.normalization.batch_normalization.BatchNormalization object at 0x7f5667f57430>\n",
      "<keras.layers.core.activation.Activation object at 0x7f5667f569e0>\n",
      "<keras.layers.convolutional.conv2d.Conv2D object at 0x7f5667f552a0>\n",
      "<keras.layers.normalization.batch_normalization.BatchNormalization object at 0x7f5667f6a380>\n",
      "<keras.layers.core.activation.Activation object at 0x7f5667f6a0e0>\n",
      "<keras.layers.convolutional.conv2d.Conv2D object at 0x7f5667f6afb0>\n",
      "<keras.layers.normalization.batch_normalization.BatchNormalization object at 0x7f5667f6a6b0>\n",
      "<keras.layers.merging.add.Add object at 0x7f56e00c2770>\n",
      "<keras.layers.core.activation.Activation object at 0x7f5667f6b880>\n",
      "<keras.layers.convolutional.conv2d.Conv2D object at 0x7f5667f6b6a0>\n",
      "<keras.layers.normalization.batch_normalization.BatchNormalization object at 0x7f5667f923e0>\n",
      "<keras.layers.core.activation.Activation object at 0x7f5667f6b160>\n",
      "<keras.layers.convolutional.conv2d.Conv2D object at 0x7f5667f927d0>\n",
      "<keras.layers.normalization.batch_normalization.BatchNormalization object at 0x7f5667f93c10>\n",
      "<keras.layers.core.activation.Activation object at 0x7f5667f93640>\n",
      "<keras.layers.convolutional.conv2d.Conv2D object at 0x7f5667f93010>\n",
      "<keras.layers.normalization.batch_normalization.BatchNormalization object at 0x7f5667fac9a0>\n",
      "<keras.layers.merging.add.Add object at 0x7f5667f92f50>\n",
      "<keras.layers.core.activation.Activation object at 0x7f5667f92140>\n",
      "<keras.layers.convolutional.conv2d.Conv2D object at 0x7f5667fae4a0>\n",
      "<keras.layers.normalization.batch_normalization.BatchNormalization object at 0x7f5667fafa00>\n",
      "<keras.layers.core.activation.Activation object at 0x7f5667fafcd0>\n",
      "<keras.layers.convolutional.conv2d.Conv2D object at 0x7f5667dd5a20>\n",
      "<keras.layers.normalization.batch_normalization.BatchNormalization object at 0x7f5667dd6f80>\n",
      "<keras.layers.core.activation.Activation object at 0x7f5667dd6d40>\n",
      "<keras.layers.convolutional.conv2d.Conv2D object at 0x7f5667faee30>\n",
      "<keras.layers.convolutional.conv2d.Conv2D object at 0x7f5667dd57b0>\n",
      "<keras.layers.normalization.batch_normalization.BatchNormalization object at 0x7f5667fafca0>\n",
      "<keras.layers.normalization.batch_normalization.BatchNormalization object at 0x7f5667dd7460>\n",
      "<keras.layers.merging.add.Add object at 0x7f5667dd7c70>\n",
      "<keras.layers.core.activation.Activation object at 0x7f5667df9300>\n",
      "<keras.layers.convolutional.conv2d.Conv2D object at 0x7f5667df9990>\n",
      "<keras.layers.normalization.batch_normalization.BatchNormalization object at 0x7f5667dfb070>\n",
      "<keras.layers.core.activation.Activation object at 0x7f5667dfa890>\n",
      "<keras.layers.convolutional.conv2d.Conv2D object at 0x7f5667dfbca0>\n",
      "<keras.layers.normalization.batch_normalization.BatchNormalization object at 0x7f5667df8940>\n",
      "<keras.layers.core.activation.Activation object at 0x7f5667dfa4d0>\n",
      "<keras.layers.convolutional.conv2d.Conv2D object at 0x7f5667dfb3a0>\n",
      "<keras.layers.normalization.batch_normalization.BatchNormalization object at 0x7f5667dd4790>\n",
      "<keras.layers.merging.add.Add object at 0x7f5667df9c60>\n",
      "<keras.layers.core.activation.Activation object at 0x7f5667fad2d0>\n",
      "<keras.layers.convolutional.conv2d.Conv2D object at 0x7f5667dd7dc0>\n",
      "<keras.layers.normalization.batch_normalization.BatchNormalization object at 0x7f5667dd7670>\n",
      "<keras.layers.core.activation.Activation object at 0x7f5667dd7250>\n",
      "<keras.layers.convolutional.conv2d.Conv2D object at 0x7f5667f93580>\n",
      "<keras.layers.normalization.batch_normalization.BatchNormalization object at 0x7f5667f57c10>\n",
      "<keras.layers.core.activation.Activation object at 0x7f5667f693c0>\n",
      "<keras.layers.convolutional.conv2d.Conv2D object at 0x7f5667f69e70>\n",
      "<keras.layers.normalization.batch_normalization.BatchNormalization object at 0x7f5667e1a020>\n",
      "<keras.layers.merging.add.Add object at 0x7f5667f68f40>\n",
      "<keras.layers.core.activation.Activation object at 0x7f5667e1b400>\n",
      "<keras.layers.convolutional.conv2d.Conv2D object at 0x7f5667e1ad10>\n",
      "<keras.layers.normalization.batch_normalization.BatchNormalization object at 0x7f5667e1b8b0>\n",
      "<keras.layers.core.activation.Activation object at 0x7f5667e1aef0>\n",
      "<keras.layers.convolutional.conv2d.Conv2D object at 0x7f5667e1be50>\n",
      "<keras.layers.normalization.batch_normalization.BatchNormalization object at 0x7f5667e2dc90>\n",
      "<keras.layers.core.activation.Activation object at 0x7f5667e1a4a0>\n",
      "<keras.layers.convolutional.conv2d.Conv2D object at 0x7f5667e2e8c0>\n",
      "<keras.layers.normalization.batch_normalization.BatchNormalization object at 0x7f5667e2f940>\n",
      "<keras.layers.merging.add.Add object at 0x7f5667e2e980>\n",
      "<keras.layers.core.activation.Activation object at 0x7f5667e2eaa0>\n",
      "<keras.layers.convolutional.conv2d.Conv2D object at 0x7f5667e2f6d0>\n",
      "<keras.layers.normalization.batch_normalization.BatchNormalization object at 0x7f5667e4ea40>\n",
      "<keras.layers.core.activation.Activation object at 0x7f5667e2f070>\n",
      "<keras.layers.convolutional.conv2d.Conv2D object at 0x7f5667e4da80>\n",
      "<keras.layers.normalization.batch_normalization.BatchNormalization object at 0x7f5667e4d960>\n",
      "<keras.layers.core.activation.Activation object at 0x7f5667e4fd90>\n",
      "<keras.layers.convolutional.conv2d.Conv2D object at 0x7f5667e2f0a0>\n",
      "<keras.layers.convolutional.conv2d.Conv2D object at 0x7f5667e4dae0>\n",
      "<keras.layers.normalization.batch_normalization.BatchNormalization object at 0x7f5667e4dd50>\n",
      "<keras.layers.normalization.batch_normalization.BatchNormalization object at 0x7f5667e76d10>\n",
      "<keras.layers.merging.add.Add object at 0x7f5667e772e0>\n",
      "<keras.layers.core.activation.Activation object at 0x7f5667e77190>\n",
      "<keras.layers.convolutional.conv2d.Conv2D object at 0x7f5667e772b0>\n",
      "<keras.layers.normalization.batch_normalization.BatchNormalization object at 0x7f5667e75990>\n",
      "<keras.layers.core.activation.Activation object at 0x7f5667e4f3d0>\n",
      "<keras.layers.convolutional.conv2d.Conv2D object at 0x7f5667e4f670>\n",
      "<keras.layers.normalization.batch_normalization.BatchNormalization object at 0x7f5667e75cc0>\n",
      "<keras.layers.core.activation.Activation object at 0x7f5667e747f0>\n",
      "<keras.layers.convolutional.conv2d.Conv2D object at 0x7f5667e2f430>\n",
      "<keras.layers.normalization.batch_normalization.BatchNormalization object at 0x7f5667e19510>\n",
      "<keras.layers.merging.add.Add object at 0x7f5667f25e10>\n",
      "<keras.layers.core.activation.Activation object at 0x7f5667f68700>\n",
      "<keras.layers.convolutional.conv2d.Conv2D object at 0x7f5667fac730>\n",
      "<keras.layers.normalization.batch_normalization.BatchNormalization object at 0x7f5667e770d0>\n",
      "<keras.layers.core.activation.Activation object at 0x7f5667dd51b0>\n",
      "<keras.layers.convolutional.conv2d.Conv2D object at 0x7f5667dd4640>\n",
      "<keras.layers.normalization.batch_normalization.BatchNormalization object at 0x7f5667e963b0>\n",
      "<keras.layers.core.activation.Activation object at 0x7f5667e960e0>\n",
      "<keras.layers.convolutional.conv2d.Conv2D object at 0x7f5667e96fe0>\n",
      "<keras.layers.normalization.batch_normalization.BatchNormalization object at 0x7f5667e966e0>\n",
      "<keras.layers.merging.add.Add object at 0x7f5667e970a0>\n",
      "<keras.layers.core.activation.Activation object at 0x7f5667e978b0>\n",
      "<keras.layers.convolutional.conv2d.Conv2D object at 0x7f5667eac4f0>\n",
      "<keras.layers.normalization.batch_normalization.BatchNormalization object at 0x7f5667eae470>\n",
      "<keras.layers.core.activation.Activation object at 0x7f5667e97130>\n",
      "<keras.layers.convolutional.conv2d.Conv2D object at 0x7f5667eae830>\n",
      "<keras.layers.normalization.batch_normalization.BatchNormalization object at 0x7f5667eafcd0>\n",
      "<keras.layers.core.activation.Activation object at 0x7f5667eaf340>\n",
      "<keras.layers.convolutional.conv2d.Conv2D object at 0x7f5667eadf60>\n",
      "<keras.layers.normalization.batch_normalization.BatchNormalization object at 0x7f5667eae200>\n",
      "<keras.layers.merging.add.Add object at 0x7f5667dfab90>\n",
      "<keras.layers.core.activation.Activation object at 0x7f5667eca3e0>\n",
      "<keras.layers.convolutional.conv2d.Conv2D object at 0x7f5667ecafb0>\n",
      "<keras.layers.normalization.batch_normalization.BatchNormalization object at 0x7f5667ecbdc0>\n",
      "<keras.layers.core.activation.Activation object at 0x7f5667ecb3d0>\n",
      "<keras.layers.convolutional.conv2d.Conv2D object at 0x7f5667ecb2e0>\n",
      "<keras.layers.normalization.batch_normalization.BatchNormalization object at 0x7f5667ec9090>\n",
      "<keras.layers.core.activation.Activation object at 0x7f5667ec8730>\n",
      "<keras.layers.convolutional.conv2d.Conv2D object at 0x7f5667cea080>\n",
      "<keras.layers.normalization.batch_normalization.BatchNormalization object at 0x7f5667ceb310>\n",
      "<keras.layers.merging.add.Add object at 0x7f5667cebd90>\n",
      "<keras.layers.core.activation.Activation object at 0x7f5667cead40>\n",
      "<keras.layers.convolutional.conv2d.Conv2D object at 0x7f5667ceae60>\n",
      "<keras.layers.normalization.batch_normalization.BatchNormalization object at 0x7f5667ce9f00>\n",
      "<keras.layers.core.activation.Activation object at 0x7f5667ec8670>\n",
      "<keras.layers.convolutional.conv2d.Conv2D object at 0x7f5667ec8d30>\n",
      "<keras.layers.normalization.batch_normalization.BatchNormalization object at 0x7f5667ce8190>\n",
      "<keras.layers.core.activation.Activation object at 0x7f5667eac9a0>\n",
      "<keras.layers.convolutional.conv2d.Conv2D object at 0x7f5667ec8340>\n",
      "<keras.layers.normalization.batch_normalization.BatchNormalization object at 0x7f5667e95630>\n",
      "<keras.layers.merging.add.Add object at 0x7f5667f915d0>\n",
      "<keras.layers.core.activation.Activation object at 0x7f5667e1b6d0>\n",
      "<keras.layers.convolutional.conv2d.Conv2D object at 0x7f5667e4e380>\n",
      "<keras.layers.normalization.batch_normalization.BatchNormalization object at 0x7f5667e4e170>\n",
      "<keras.layers.core.activation.Activation object at 0x7f5667e4c700>\n",
      "<keras.layers.convolutional.conv2d.Conv2D object at 0x7f5667d0af20>\n",
      "<keras.layers.normalization.batch_normalization.BatchNormalization object at 0x7f5667d0b9a0>\n",
      "<keras.layers.core.activation.Activation object at 0x7f5667d097e0>\n",
      "<keras.layers.convolutional.conv2d.Conv2D object at 0x7f5667e2cd60>\n",
      "<keras.layers.convolutional.conv2d.Conv2D object at 0x7f5667d0b0a0>\n",
      "<keras.layers.normalization.batch_normalization.BatchNormalization object at 0x7f5667dd4580>\n",
      "<keras.layers.normalization.batch_normalization.BatchNormalization object at 0x7f5667d1d1e0>\n",
      "<keras.layers.merging.add.Add object at 0x7f5667d095d0>\n",
      "<keras.layers.core.activation.Activation object at 0x7f5667d1f3d0>\n",
      "<keras.layers.convolutional.conv2d.Conv2D object at 0x7f5667d1db70>\n",
      "<keras.layers.normalization.batch_normalization.BatchNormalization object at 0x7f5667d1f8e0>\n",
      "<keras.layers.core.activation.Activation object at 0x7f5667d1ffa0>\n",
      "<keras.layers.convolutional.conv2d.Conv2D object at 0x7f5667d1ffd0>\n",
      "<keras.layers.normalization.batch_normalization.BatchNormalization object at 0x7f5667d39d50>\n",
      "<keras.layers.core.activation.Activation object at 0x7f5667d39a80>\n",
      "<keras.layers.convolutional.conv2d.Conv2D object at 0x7f5667d3a980>\n",
      "<keras.layers.normalization.batch_normalization.BatchNormalization object at 0x7f5667d3ba00>\n",
      "<keras.layers.merging.add.Add object at 0x7f5667d3aa40>\n",
      "<keras.layers.core.activation.Activation object at 0x7f5667d3b250>\n",
      "<keras.layers.convolutional.conv2d.Conv2D object at 0x7f5667d399f0>\n",
      "<keras.layers.normalization.batch_normalization.BatchNormalization object at 0x7f5667d5de10>\n",
      "<keras.layers.core.activation.Activation object at 0x7f5667d3b760>\n",
      "<keras.layers.convolutional.conv2d.Conv2D object at 0x7f5667d5e260>\n",
      "<keras.layers.normalization.batch_normalization.BatchNormalization object at 0x7f5667d5f6d0>\n",
      "<keras.layers.core.activation.Activation object at 0x7f5667d5f520>\n",
      "<keras.layers.convolutional.conv2d.Conv2D object at 0x7f5667d5ed40>\n",
      "<keras.layers.normalization.batch_normalization.BatchNormalization object at 0x7f5667d5ccd0>\n",
      "<keras.layers.merging.add.Add object at 0x7f5667d388e0>\n",
      "<keras.layers.core.activation.Activation object at 0x7f5667d38160>\n"
     ]
    }
   ],
   "source": [
    "for layer in resnet.layers:\n",
    "  print(layer)"
   ]
  },
  {
   "cell_type": "code",
   "execution_count": 23,
   "metadata": {
    "executionInfo": {
     "elapsed": 1127,
     "status": "ok",
     "timestamp": 1686125866435,
     "user": {
      "displayName": "Debarghya Mondal",
      "userId": "05726982114662597778"
     },
     "user_tz": -330
    },
    "id": "F1TDkMTwiiyE"
   },
   "outputs": [],
   "source": [
    "x = Flatten()(resnet.output)"
   ]
  },
  {
   "cell_type": "code",
   "execution_count": 24,
   "metadata": {
    "executionInfo": {
     "elapsed": 215,
     "status": "ok",
     "timestamp": 1686125866453,
     "user": {
      "displayName": "Debarghya Mondal",
      "userId": "05726982114662597778"
     },
     "user_tz": -330
    },
    "id": "WBfcuSLhim1u"
   },
   "outputs": [],
   "source": [
    "out = Dense(16, activation='softmax')(x)"
   ]
  },
  {
   "cell_type": "code",
   "execution_count": 25,
   "metadata": {
    "executionInfo": {
     "elapsed": 216,
     "status": "ok",
     "timestamp": 1686125866455,
     "user": {
      "displayName": "Debarghya Mondal",
      "userId": "05726982114662597778"
     },
     "user_tz": -330
    },
    "id": "EZj7EGu2ivFT"
   },
   "outputs": [],
   "source": [
    "res_model = Model(inputs=resnet.input,outputs=out)"
   ]
  },
  {
   "cell_type": "code",
   "execution_count": 26,
   "metadata": {
    "colab": {
     "base_uri": "https://localhost:8080/"
    },
    "executionInfo": {
     "elapsed": 2653,
     "status": "ok",
     "timestamp": 1686125868893,
     "user": {
      "displayName": "Debarghya Mondal",
      "userId": "05726982114662597778"
     },
     "user_tz": -330
    },
    "id": "7u7w7GcGiyIK",
    "outputId": "fcc72f70-f58f-46f1-e93a-7b696f157d04"
   },
   "outputs": [
    {
     "name": "stdout",
     "output_type": "stream",
     "text": [
      "Model: \"model_1\"\n",
      "__________________________________________________________________________________________________\n",
      " Layer (type)                   Output Shape         Param #     Connected to                     \n",
      "==================================================================================================\n",
      " input_2 (InputLayer)           [(None, 224, 224, 3  0           []                               \n",
      "                                )]                                                                \n",
      "                                                                                                  \n",
      " conv1_pad (ZeroPadding2D)      (None, 230, 230, 3)  0           ['input_2[0][0]']                \n",
      "                                                                                                  \n",
      " conv1_conv (Conv2D)            (None, 112, 112, 64  9472        ['conv1_pad[0][0]']              \n",
      "                                )                                                                 \n",
      "                                                                                                  \n",
      " conv1_bn (BatchNormalization)  (None, 112, 112, 64  256         ['conv1_conv[0][0]']             \n",
      "                                )                                                                 \n",
      "                                                                                                  \n",
      " conv1_relu (Activation)        (None, 112, 112, 64  0           ['conv1_bn[0][0]']               \n",
      "                                )                                                                 \n",
      "                                                                                                  \n",
      " pool1_pad (ZeroPadding2D)      (None, 114, 114, 64  0           ['conv1_relu[0][0]']             \n",
      "                                )                                                                 \n",
      "                                                                                                  \n",
      " pool1_pool (MaxPooling2D)      (None, 56, 56, 64)   0           ['pool1_pad[0][0]']              \n",
      "                                                                                                  \n",
      " conv2_block1_1_conv (Conv2D)   (None, 56, 56, 64)   4160        ['pool1_pool[0][0]']             \n",
      "                                                                                                  \n",
      " conv2_block1_1_bn (BatchNormal  (None, 56, 56, 64)  256         ['conv2_block1_1_conv[0][0]']    \n",
      " ization)                                                                                         \n",
      "                                                                                                  \n",
      " conv2_block1_1_relu (Activatio  (None, 56, 56, 64)  0           ['conv2_block1_1_bn[0][0]']      \n",
      " n)                                                                                               \n",
      "                                                                                                  \n",
      " conv2_block1_2_conv (Conv2D)   (None, 56, 56, 64)   36928       ['conv2_block1_1_relu[0][0]']    \n",
      "                                                                                                  \n",
      " conv2_block1_2_bn (BatchNormal  (None, 56, 56, 64)  256         ['conv2_block1_2_conv[0][0]']    \n",
      " ization)                                                                                         \n",
      "                                                                                                  \n",
      " conv2_block1_2_relu (Activatio  (None, 56, 56, 64)  0           ['conv2_block1_2_bn[0][0]']      \n",
      " n)                                                                                               \n",
      "                                                                                                  \n",
      " conv2_block1_0_conv (Conv2D)   (None, 56, 56, 256)  16640       ['pool1_pool[0][0]']             \n",
      "                                                                                                  \n",
      " conv2_block1_3_conv (Conv2D)   (None, 56, 56, 256)  16640       ['conv2_block1_2_relu[0][0]']    \n",
      "                                                                                                  \n",
      " conv2_block1_0_bn (BatchNormal  (None, 56, 56, 256)  1024       ['conv2_block1_0_conv[0][0]']    \n",
      " ization)                                                                                         \n",
      "                                                                                                  \n",
      " conv2_block1_3_bn (BatchNormal  (None, 56, 56, 256)  1024       ['conv2_block1_3_conv[0][0]']    \n",
      " ization)                                                                                         \n",
      "                                                                                                  \n",
      " conv2_block1_add (Add)         (None, 56, 56, 256)  0           ['conv2_block1_0_bn[0][0]',      \n",
      "                                                                  'conv2_block1_3_bn[0][0]']      \n",
      "                                                                                                  \n",
      " conv2_block1_out (Activation)  (None, 56, 56, 256)  0           ['conv2_block1_add[0][0]']       \n",
      "                                                                                                  \n",
      " conv2_block2_1_conv (Conv2D)   (None, 56, 56, 64)   16448       ['conv2_block1_out[0][0]']       \n",
      "                                                                                                  \n",
      " conv2_block2_1_bn (BatchNormal  (None, 56, 56, 64)  256         ['conv2_block2_1_conv[0][0]']    \n",
      " ization)                                                                                         \n",
      "                                                                                                  \n",
      " conv2_block2_1_relu (Activatio  (None, 56, 56, 64)  0           ['conv2_block2_1_bn[0][0]']      \n",
      " n)                                                                                               \n",
      "                                                                                                  \n",
      " conv2_block2_2_conv (Conv2D)   (None, 56, 56, 64)   36928       ['conv2_block2_1_relu[0][0]']    \n",
      "                                                                                                  \n",
      " conv2_block2_2_bn (BatchNormal  (None, 56, 56, 64)  256         ['conv2_block2_2_conv[0][0]']    \n",
      " ization)                                                                                         \n",
      "                                                                                                  \n",
      " conv2_block2_2_relu (Activatio  (None, 56, 56, 64)  0           ['conv2_block2_2_bn[0][0]']      \n",
      " n)                                                                                               \n",
      "                                                                                                  \n",
      " conv2_block2_3_conv (Conv2D)   (None, 56, 56, 256)  16640       ['conv2_block2_2_relu[0][0]']    \n",
      "                                                                                                  \n",
      " conv2_block2_3_bn (BatchNormal  (None, 56, 56, 256)  1024       ['conv2_block2_3_conv[0][0]']    \n",
      " ization)                                                                                         \n",
      "                                                                                                  \n",
      " conv2_block2_add (Add)         (None, 56, 56, 256)  0           ['conv2_block1_out[0][0]',       \n",
      "                                                                  'conv2_block2_3_bn[0][0]']      \n",
      "                                                                                                  \n",
      " conv2_block2_out (Activation)  (None, 56, 56, 256)  0           ['conv2_block2_add[0][0]']       \n",
      "                                                                                                  \n",
      " conv2_block3_1_conv (Conv2D)   (None, 56, 56, 64)   16448       ['conv2_block2_out[0][0]']       \n",
      "                                                                                                  \n",
      " conv2_block3_1_bn (BatchNormal  (None, 56, 56, 64)  256         ['conv2_block3_1_conv[0][0]']    \n",
      " ization)                                                                                         \n",
      "                                                                                                  \n",
      " conv2_block3_1_relu (Activatio  (None, 56, 56, 64)  0           ['conv2_block3_1_bn[0][0]']      \n",
      " n)                                                                                               \n",
      "                                                                                                  \n",
      " conv2_block3_2_conv (Conv2D)   (None, 56, 56, 64)   36928       ['conv2_block3_1_relu[0][0]']    \n",
      "                                                                                                  \n",
      " conv2_block3_2_bn (BatchNormal  (None, 56, 56, 64)  256         ['conv2_block3_2_conv[0][0]']    \n",
      " ization)                                                                                         \n",
      "                                                                                                  \n",
      " conv2_block3_2_relu (Activatio  (None, 56, 56, 64)  0           ['conv2_block3_2_bn[0][0]']      \n",
      " n)                                                                                               \n",
      "                                                                                                  \n",
      " conv2_block3_3_conv (Conv2D)   (None, 56, 56, 256)  16640       ['conv2_block3_2_relu[0][0]']    \n",
      "                                                                                                  \n",
      " conv2_block3_3_bn (BatchNormal  (None, 56, 56, 256)  1024       ['conv2_block3_3_conv[0][0]']    \n",
      " ization)                                                                                         \n",
      "                                                                                                  \n",
      " conv2_block3_add (Add)         (None, 56, 56, 256)  0           ['conv2_block2_out[0][0]',       \n",
      "                                                                  'conv2_block3_3_bn[0][0]']      \n",
      "                                                                                                  \n",
      " conv2_block3_out (Activation)  (None, 56, 56, 256)  0           ['conv2_block3_add[0][0]']       \n",
      "                                                                                                  \n",
      " conv3_block1_1_conv (Conv2D)   (None, 28, 28, 128)  32896       ['conv2_block3_out[0][0]']       \n",
      "                                                                                                  \n",
      " conv3_block1_1_bn (BatchNormal  (None, 28, 28, 128)  512        ['conv3_block1_1_conv[0][0]']    \n",
      " ization)                                                                                         \n",
      "                                                                                                  \n",
      " conv3_block1_1_relu (Activatio  (None, 28, 28, 128)  0          ['conv3_block1_1_bn[0][0]']      \n",
      " n)                                                                                               \n",
      "                                                                                                  \n",
      " conv3_block1_2_conv (Conv2D)   (None, 28, 28, 128)  147584      ['conv3_block1_1_relu[0][0]']    \n",
      "                                                                                                  \n",
      " conv3_block1_2_bn (BatchNormal  (None, 28, 28, 128)  512        ['conv3_block1_2_conv[0][0]']    \n",
      " ization)                                                                                         \n",
      "                                                                                                  \n",
      " conv3_block1_2_relu (Activatio  (None, 28, 28, 128)  0          ['conv3_block1_2_bn[0][0]']      \n",
      " n)                                                                                               \n",
      "                                                                                                  \n",
      " conv3_block1_0_conv (Conv2D)   (None, 28, 28, 512)  131584      ['conv2_block3_out[0][0]']       \n",
      "                                                                                                  \n",
      " conv3_block1_3_conv (Conv2D)   (None, 28, 28, 512)  66048       ['conv3_block1_2_relu[0][0]']    \n",
      "                                                                                                  \n",
      " conv3_block1_0_bn (BatchNormal  (None, 28, 28, 512)  2048       ['conv3_block1_0_conv[0][0]']    \n",
      " ization)                                                                                         \n",
      "                                                                                                  \n",
      " conv3_block1_3_bn (BatchNormal  (None, 28, 28, 512)  2048       ['conv3_block1_3_conv[0][0]']    \n",
      " ization)                                                                                         \n",
      "                                                                                                  \n",
      " conv3_block1_add (Add)         (None, 28, 28, 512)  0           ['conv3_block1_0_bn[0][0]',      \n",
      "                                                                  'conv3_block1_3_bn[0][0]']      \n",
      "                                                                                                  \n",
      " conv3_block1_out (Activation)  (None, 28, 28, 512)  0           ['conv3_block1_add[0][0]']       \n",
      "                                                                                                  \n",
      " conv3_block2_1_conv (Conv2D)   (None, 28, 28, 128)  65664       ['conv3_block1_out[0][0]']       \n",
      "                                                                                                  \n",
      " conv3_block2_1_bn (BatchNormal  (None, 28, 28, 128)  512        ['conv3_block2_1_conv[0][0]']    \n",
      " ization)                                                                                         \n",
      "                                                                                                  \n",
      " conv3_block2_1_relu (Activatio  (None, 28, 28, 128)  0          ['conv3_block2_1_bn[0][0]']      \n",
      " n)                                                                                               \n",
      "                                                                                                  \n",
      " conv3_block2_2_conv (Conv2D)   (None, 28, 28, 128)  147584      ['conv3_block2_1_relu[0][0]']    \n",
      "                                                                                                  \n",
      " conv3_block2_2_bn (BatchNormal  (None, 28, 28, 128)  512        ['conv3_block2_2_conv[0][0]']    \n",
      " ization)                                                                                         \n",
      "                                                                                                  \n",
      " conv3_block2_2_relu (Activatio  (None, 28, 28, 128)  0          ['conv3_block2_2_bn[0][0]']      \n",
      " n)                                                                                               \n",
      "                                                                                                  \n",
      " conv3_block2_3_conv (Conv2D)   (None, 28, 28, 512)  66048       ['conv3_block2_2_relu[0][0]']    \n",
      "                                                                                                  \n",
      " conv3_block2_3_bn (BatchNormal  (None, 28, 28, 512)  2048       ['conv3_block2_3_conv[0][0]']    \n",
      " ization)                                                                                         \n",
      "                                                                                                  \n",
      " conv3_block2_add (Add)         (None, 28, 28, 512)  0           ['conv3_block1_out[0][0]',       \n",
      "                                                                  'conv3_block2_3_bn[0][0]']      \n",
      "                                                                                                  \n",
      " conv3_block2_out (Activation)  (None, 28, 28, 512)  0           ['conv3_block2_add[0][0]']       \n",
      "                                                                                                  \n",
      " conv3_block3_1_conv (Conv2D)   (None, 28, 28, 128)  65664       ['conv3_block2_out[0][0]']       \n",
      "                                                                                                  \n",
      " conv3_block3_1_bn (BatchNormal  (None, 28, 28, 128)  512        ['conv3_block3_1_conv[0][0]']    \n",
      " ization)                                                                                         \n",
      "                                                                                                  \n",
      " conv3_block3_1_relu (Activatio  (None, 28, 28, 128)  0          ['conv3_block3_1_bn[0][0]']      \n",
      " n)                                                                                               \n",
      "                                                                                                  \n",
      " conv3_block3_2_conv (Conv2D)   (None, 28, 28, 128)  147584      ['conv3_block3_1_relu[0][0]']    \n",
      "                                                                                                  \n",
      " conv3_block3_2_bn (BatchNormal  (None, 28, 28, 128)  512        ['conv3_block3_2_conv[0][0]']    \n",
      " ization)                                                                                         \n",
      "                                                                                                  \n",
      " conv3_block3_2_relu (Activatio  (None, 28, 28, 128)  0          ['conv3_block3_2_bn[0][0]']      \n",
      " n)                                                                                               \n",
      "                                                                                                  \n",
      " conv3_block3_3_conv (Conv2D)   (None, 28, 28, 512)  66048       ['conv3_block3_2_relu[0][0]']    \n",
      "                                                                                                  \n",
      " conv3_block3_3_bn (BatchNormal  (None, 28, 28, 512)  2048       ['conv3_block3_3_conv[0][0]']    \n",
      " ization)                                                                                         \n",
      "                                                                                                  \n",
      " conv3_block3_add (Add)         (None, 28, 28, 512)  0           ['conv3_block2_out[0][0]',       \n",
      "                                                                  'conv3_block3_3_bn[0][0]']      \n",
      "                                                                                                  \n",
      " conv3_block3_out (Activation)  (None, 28, 28, 512)  0           ['conv3_block3_add[0][0]']       \n",
      "                                                                                                  \n",
      " conv3_block4_1_conv (Conv2D)   (None, 28, 28, 128)  65664       ['conv3_block3_out[0][0]']       \n",
      "                                                                                                  \n",
      " conv3_block4_1_bn (BatchNormal  (None, 28, 28, 128)  512        ['conv3_block4_1_conv[0][0]']    \n",
      " ization)                                                                                         \n",
      "                                                                                                  \n",
      " conv3_block4_1_relu (Activatio  (None, 28, 28, 128)  0          ['conv3_block4_1_bn[0][0]']      \n",
      " n)                                                                                               \n",
      "                                                                                                  \n",
      " conv3_block4_2_conv (Conv2D)   (None, 28, 28, 128)  147584      ['conv3_block4_1_relu[0][0]']    \n",
      "                                                                                                  \n",
      " conv3_block4_2_bn (BatchNormal  (None, 28, 28, 128)  512        ['conv3_block4_2_conv[0][0]']    \n",
      " ization)                                                                                         \n",
      "                                                                                                  \n",
      " conv3_block4_2_relu (Activatio  (None, 28, 28, 128)  0          ['conv3_block4_2_bn[0][0]']      \n",
      " n)                                                                                               \n",
      "                                                                                                  \n",
      " conv3_block4_3_conv (Conv2D)   (None, 28, 28, 512)  66048       ['conv3_block4_2_relu[0][0]']    \n",
      "                                                                                                  \n",
      " conv3_block4_3_bn (BatchNormal  (None, 28, 28, 512)  2048       ['conv3_block4_3_conv[0][0]']    \n",
      " ization)                                                                                         \n",
      "                                                                                                  \n",
      " conv3_block4_add (Add)         (None, 28, 28, 512)  0           ['conv3_block3_out[0][0]',       \n",
      "                                                                  'conv3_block4_3_bn[0][0]']      \n",
      "                                                                                                  \n",
      " conv3_block4_out (Activation)  (None, 28, 28, 512)  0           ['conv3_block4_add[0][0]']       \n",
      "                                                                                                  \n",
      " conv4_block1_1_conv (Conv2D)   (None, 14, 14, 256)  131328      ['conv3_block4_out[0][0]']       \n",
      "                                                                                                  \n",
      " conv4_block1_1_bn (BatchNormal  (None, 14, 14, 256)  1024       ['conv4_block1_1_conv[0][0]']    \n",
      " ization)                                                                                         \n",
      "                                                                                                  \n",
      " conv4_block1_1_relu (Activatio  (None, 14, 14, 256)  0          ['conv4_block1_1_bn[0][0]']      \n",
      " n)                                                                                               \n",
      "                                                                                                  \n",
      " conv4_block1_2_conv (Conv2D)   (None, 14, 14, 256)  590080      ['conv4_block1_1_relu[0][0]']    \n",
      "                                                                                                  \n",
      " conv4_block1_2_bn (BatchNormal  (None, 14, 14, 256)  1024       ['conv4_block1_2_conv[0][0]']    \n",
      " ization)                                                                                         \n",
      "                                                                                                  \n",
      " conv4_block1_2_relu (Activatio  (None, 14, 14, 256)  0          ['conv4_block1_2_bn[0][0]']      \n",
      " n)                                                                                               \n",
      "                                                                                                  \n",
      " conv4_block1_0_conv (Conv2D)   (None, 14, 14, 1024  525312      ['conv3_block4_out[0][0]']       \n",
      "                                )                                                                 \n",
      "                                                                                                  \n",
      " conv4_block1_3_conv (Conv2D)   (None, 14, 14, 1024  263168      ['conv4_block1_2_relu[0][0]']    \n",
      "                                )                                                                 \n",
      "                                                                                                  \n",
      " conv4_block1_0_bn (BatchNormal  (None, 14, 14, 1024  4096       ['conv4_block1_0_conv[0][0]']    \n",
      " ization)                       )                                                                 \n",
      "                                                                                                  \n",
      " conv4_block1_3_bn (BatchNormal  (None, 14, 14, 1024  4096       ['conv4_block1_3_conv[0][0]']    \n",
      " ization)                       )                                                                 \n",
      "                                                                                                  \n",
      " conv4_block1_add (Add)         (None, 14, 14, 1024  0           ['conv4_block1_0_bn[0][0]',      \n",
      "                                )                                 'conv4_block1_3_bn[0][0]']      \n",
      "                                                                                                  \n",
      " conv4_block1_out (Activation)  (None, 14, 14, 1024  0           ['conv4_block1_add[0][0]']       \n",
      "                                )                                                                 \n",
      "                                                                                                  \n",
      " conv4_block2_1_conv (Conv2D)   (None, 14, 14, 256)  262400      ['conv4_block1_out[0][0]']       \n",
      "                                                                                                  \n",
      " conv4_block2_1_bn (BatchNormal  (None, 14, 14, 256)  1024       ['conv4_block2_1_conv[0][0]']    \n",
      " ization)                                                                                         \n",
      "                                                                                                  \n",
      " conv4_block2_1_relu (Activatio  (None, 14, 14, 256)  0          ['conv4_block2_1_bn[0][0]']      \n",
      " n)                                                                                               \n",
      "                                                                                                  \n",
      " conv4_block2_2_conv (Conv2D)   (None, 14, 14, 256)  590080      ['conv4_block2_1_relu[0][0]']    \n",
      "                                                                                                  \n",
      " conv4_block2_2_bn (BatchNormal  (None, 14, 14, 256)  1024       ['conv4_block2_2_conv[0][0]']    \n",
      " ization)                                                                                         \n",
      "                                                                                                  \n",
      " conv4_block2_2_relu (Activatio  (None, 14, 14, 256)  0          ['conv4_block2_2_bn[0][0]']      \n",
      " n)                                                                                               \n",
      "                                                                                                  \n",
      " conv4_block2_3_conv (Conv2D)   (None, 14, 14, 1024  263168      ['conv4_block2_2_relu[0][0]']    \n",
      "                                )                                                                 \n",
      "                                                                                                  \n",
      " conv4_block2_3_bn (BatchNormal  (None, 14, 14, 1024  4096       ['conv4_block2_3_conv[0][0]']    \n",
      " ization)                       )                                                                 \n",
      "                                                                                                  \n",
      " conv4_block2_add (Add)         (None, 14, 14, 1024  0           ['conv4_block1_out[0][0]',       \n",
      "                                )                                 'conv4_block2_3_bn[0][0]']      \n",
      "                                                                                                  \n",
      " conv4_block2_out (Activation)  (None, 14, 14, 1024  0           ['conv4_block2_add[0][0]']       \n",
      "                                )                                                                 \n",
      "                                                                                                  \n",
      " conv4_block3_1_conv (Conv2D)   (None, 14, 14, 256)  262400      ['conv4_block2_out[0][0]']       \n",
      "                                                                                                  \n",
      " conv4_block3_1_bn (BatchNormal  (None, 14, 14, 256)  1024       ['conv4_block3_1_conv[0][0]']    \n",
      " ization)                                                                                         \n",
      "                                                                                                  \n",
      " conv4_block3_1_relu (Activatio  (None, 14, 14, 256)  0          ['conv4_block3_1_bn[0][0]']      \n",
      " n)                                                                                               \n",
      "                                                                                                  \n",
      " conv4_block3_2_conv (Conv2D)   (None, 14, 14, 256)  590080      ['conv4_block3_1_relu[0][0]']    \n",
      "                                                                                                  \n",
      " conv4_block3_2_bn (BatchNormal  (None, 14, 14, 256)  1024       ['conv4_block3_2_conv[0][0]']    \n",
      " ization)                                                                                         \n",
      "                                                                                                  \n",
      " conv4_block3_2_relu (Activatio  (None, 14, 14, 256)  0          ['conv4_block3_2_bn[0][0]']      \n",
      " n)                                                                                               \n",
      "                                                                                                  \n",
      " conv4_block3_3_conv (Conv2D)   (None, 14, 14, 1024  263168      ['conv4_block3_2_relu[0][0]']    \n",
      "                                )                                                                 \n",
      "                                                                                                  \n",
      " conv4_block3_3_bn (BatchNormal  (None, 14, 14, 1024  4096       ['conv4_block3_3_conv[0][0]']    \n",
      " ization)                       )                                                                 \n",
      "                                                                                                  \n",
      " conv4_block3_add (Add)         (None, 14, 14, 1024  0           ['conv4_block2_out[0][0]',       \n",
      "                                )                                 'conv4_block3_3_bn[0][0]']      \n",
      "                                                                                                  \n",
      " conv4_block3_out (Activation)  (None, 14, 14, 1024  0           ['conv4_block3_add[0][0]']       \n",
      "                                )                                                                 \n",
      "                                                                                                  \n",
      " conv4_block4_1_conv (Conv2D)   (None, 14, 14, 256)  262400      ['conv4_block3_out[0][0]']       \n",
      "                                                                                                  \n",
      " conv4_block4_1_bn (BatchNormal  (None, 14, 14, 256)  1024       ['conv4_block4_1_conv[0][0]']    \n",
      " ization)                                                                                         \n",
      "                                                                                                  \n",
      " conv4_block4_1_relu (Activatio  (None, 14, 14, 256)  0          ['conv4_block4_1_bn[0][0]']      \n",
      " n)                                                                                               \n",
      "                                                                                                  \n",
      " conv4_block4_2_conv (Conv2D)   (None, 14, 14, 256)  590080      ['conv4_block4_1_relu[0][0]']    \n",
      "                                                                                                  \n",
      " conv4_block4_2_bn (BatchNormal  (None, 14, 14, 256)  1024       ['conv4_block4_2_conv[0][0]']    \n",
      " ization)                                                                                         \n",
      "                                                                                                  \n",
      " conv4_block4_2_relu (Activatio  (None, 14, 14, 256)  0          ['conv4_block4_2_bn[0][0]']      \n",
      " n)                                                                                               \n",
      "                                                                                                  \n",
      " conv4_block4_3_conv (Conv2D)   (None, 14, 14, 1024  263168      ['conv4_block4_2_relu[0][0]']    \n",
      "                                )                                                                 \n",
      "                                                                                                  \n",
      " conv4_block4_3_bn (BatchNormal  (None, 14, 14, 1024  4096       ['conv4_block4_3_conv[0][0]']    \n",
      " ization)                       )                                                                 \n",
      "                                                                                                  \n",
      " conv4_block4_add (Add)         (None, 14, 14, 1024  0           ['conv4_block3_out[0][0]',       \n",
      "                                )                                 'conv4_block4_3_bn[0][0]']      \n",
      "                                                                                                  \n",
      " conv4_block4_out (Activation)  (None, 14, 14, 1024  0           ['conv4_block4_add[0][0]']       \n",
      "                                )                                                                 \n",
      "                                                                                                  \n",
      " conv4_block5_1_conv (Conv2D)   (None, 14, 14, 256)  262400      ['conv4_block4_out[0][0]']       \n",
      "                                                                                                  \n",
      " conv4_block5_1_bn (BatchNormal  (None, 14, 14, 256)  1024       ['conv4_block5_1_conv[0][0]']    \n",
      " ization)                                                                                         \n",
      "                                                                                                  \n",
      " conv4_block5_1_relu (Activatio  (None, 14, 14, 256)  0          ['conv4_block5_1_bn[0][0]']      \n",
      " n)                                                                                               \n",
      "                                                                                                  \n",
      " conv4_block5_2_conv (Conv2D)   (None, 14, 14, 256)  590080      ['conv4_block5_1_relu[0][0]']    \n",
      "                                                                                                  \n",
      " conv4_block5_2_bn (BatchNormal  (None, 14, 14, 256)  1024       ['conv4_block5_2_conv[0][0]']    \n",
      " ization)                                                                                         \n",
      "                                                                                                  \n",
      " conv4_block5_2_relu (Activatio  (None, 14, 14, 256)  0          ['conv4_block5_2_bn[0][0]']      \n",
      " n)                                                                                               \n",
      "                                                                                                  \n",
      " conv4_block5_3_conv (Conv2D)   (None, 14, 14, 1024  263168      ['conv4_block5_2_relu[0][0]']    \n",
      "                                )                                                                 \n",
      "                                                                                                  \n",
      " conv4_block5_3_bn (BatchNormal  (None, 14, 14, 1024  4096       ['conv4_block5_3_conv[0][0]']    \n",
      " ization)                       )                                                                 \n",
      "                                                                                                  \n",
      " conv4_block5_add (Add)         (None, 14, 14, 1024  0           ['conv4_block4_out[0][0]',       \n",
      "                                )                                 'conv4_block5_3_bn[0][0]']      \n",
      "                                                                                                  \n",
      " conv4_block5_out (Activation)  (None, 14, 14, 1024  0           ['conv4_block5_add[0][0]']       \n",
      "                                )                                                                 \n",
      "                                                                                                  \n",
      " conv4_block6_1_conv (Conv2D)   (None, 14, 14, 256)  262400      ['conv4_block5_out[0][0]']       \n",
      "                                                                                                  \n",
      " conv4_block6_1_bn (BatchNormal  (None, 14, 14, 256)  1024       ['conv4_block6_1_conv[0][0]']    \n",
      " ization)                                                                                         \n",
      "                                                                                                  \n",
      " conv4_block6_1_relu (Activatio  (None, 14, 14, 256)  0          ['conv4_block6_1_bn[0][0]']      \n",
      " n)                                                                                               \n",
      "                                                                                                  \n",
      " conv4_block6_2_conv (Conv2D)   (None, 14, 14, 256)  590080      ['conv4_block6_1_relu[0][0]']    \n",
      "                                                                                                  \n",
      " conv4_block6_2_bn (BatchNormal  (None, 14, 14, 256)  1024       ['conv4_block6_2_conv[0][0]']    \n",
      " ization)                                                                                         \n",
      "                                                                                                  \n",
      " conv4_block6_2_relu (Activatio  (None, 14, 14, 256)  0          ['conv4_block6_2_bn[0][0]']      \n",
      " n)                                                                                               \n",
      "                                                                                                  \n",
      " conv4_block6_3_conv (Conv2D)   (None, 14, 14, 1024  263168      ['conv4_block6_2_relu[0][0]']    \n",
      "                                )                                                                 \n",
      "                                                                                                  \n",
      " conv4_block6_3_bn (BatchNormal  (None, 14, 14, 1024  4096       ['conv4_block6_3_conv[0][0]']    \n",
      " ization)                       )                                                                 \n",
      "                                                                                                  \n",
      " conv4_block6_add (Add)         (None, 14, 14, 1024  0           ['conv4_block5_out[0][0]',       \n",
      "                                )                                 'conv4_block6_3_bn[0][0]']      \n",
      "                                                                                                  \n",
      " conv4_block6_out (Activation)  (None, 14, 14, 1024  0           ['conv4_block6_add[0][0]']       \n",
      "                                )                                                                 \n",
      "                                                                                                  \n",
      " conv5_block1_1_conv (Conv2D)   (None, 7, 7, 512)    524800      ['conv4_block6_out[0][0]']       \n",
      "                                                                                                  \n",
      " conv5_block1_1_bn (BatchNormal  (None, 7, 7, 512)   2048        ['conv5_block1_1_conv[0][0]']    \n",
      " ization)                                                                                         \n",
      "                                                                                                  \n",
      " conv5_block1_1_relu (Activatio  (None, 7, 7, 512)   0           ['conv5_block1_1_bn[0][0]']      \n",
      " n)                                                                                               \n",
      "                                                                                                  \n",
      " conv5_block1_2_conv (Conv2D)   (None, 7, 7, 512)    2359808     ['conv5_block1_1_relu[0][0]']    \n",
      "                                                                                                  \n",
      " conv5_block1_2_bn (BatchNormal  (None, 7, 7, 512)   2048        ['conv5_block1_2_conv[0][0]']    \n",
      " ization)                                                                                         \n",
      "                                                                                                  \n",
      " conv5_block1_2_relu (Activatio  (None, 7, 7, 512)   0           ['conv5_block1_2_bn[0][0]']      \n",
      " n)                                                                                               \n",
      "                                                                                                  \n",
      " conv5_block1_0_conv (Conv2D)   (None, 7, 7, 2048)   2099200     ['conv4_block6_out[0][0]']       \n",
      "                                                                                                  \n",
      " conv5_block1_3_conv (Conv2D)   (None, 7, 7, 2048)   1050624     ['conv5_block1_2_relu[0][0]']    \n",
      "                                                                                                  \n",
      " conv5_block1_0_bn (BatchNormal  (None, 7, 7, 2048)  8192        ['conv5_block1_0_conv[0][0]']    \n",
      " ization)                                                                                         \n",
      "                                                                                                  \n",
      " conv5_block1_3_bn (BatchNormal  (None, 7, 7, 2048)  8192        ['conv5_block1_3_conv[0][0]']    \n",
      " ization)                                                                                         \n",
      "                                                                                                  \n",
      " conv5_block1_add (Add)         (None, 7, 7, 2048)   0           ['conv5_block1_0_bn[0][0]',      \n",
      "                                                                  'conv5_block1_3_bn[0][0]']      \n",
      "                                                                                                  \n",
      " conv5_block1_out (Activation)  (None, 7, 7, 2048)   0           ['conv5_block1_add[0][0]']       \n",
      "                                                                                                  \n",
      " conv5_block2_1_conv (Conv2D)   (None, 7, 7, 512)    1049088     ['conv5_block1_out[0][0]']       \n",
      "                                                                                                  \n",
      " conv5_block2_1_bn (BatchNormal  (None, 7, 7, 512)   2048        ['conv5_block2_1_conv[0][0]']    \n",
      " ization)                                                                                         \n",
      "                                                                                                  \n",
      " conv5_block2_1_relu (Activatio  (None, 7, 7, 512)   0           ['conv5_block2_1_bn[0][0]']      \n",
      " n)                                                                                               \n",
      "                                                                                                  \n",
      " conv5_block2_2_conv (Conv2D)   (None, 7, 7, 512)    2359808     ['conv5_block2_1_relu[0][0]']    \n",
      "                                                                                                  \n",
      " conv5_block2_2_bn (BatchNormal  (None, 7, 7, 512)   2048        ['conv5_block2_2_conv[0][0]']    \n",
      " ization)                                                                                         \n",
      "                                                                                                  \n",
      " conv5_block2_2_relu (Activatio  (None, 7, 7, 512)   0           ['conv5_block2_2_bn[0][0]']      \n",
      " n)                                                                                               \n",
      "                                                                                                  \n",
      " conv5_block2_3_conv (Conv2D)   (None, 7, 7, 2048)   1050624     ['conv5_block2_2_relu[0][0]']    \n",
      "                                                                                                  \n",
      " conv5_block2_3_bn (BatchNormal  (None, 7, 7, 2048)  8192        ['conv5_block2_3_conv[0][0]']    \n",
      " ization)                                                                                         \n",
      "                                                                                                  \n",
      " conv5_block2_add (Add)         (None, 7, 7, 2048)   0           ['conv5_block1_out[0][0]',       \n",
      "                                                                  'conv5_block2_3_bn[0][0]']      \n",
      "                                                                                                  \n",
      " conv5_block2_out (Activation)  (None, 7, 7, 2048)   0           ['conv5_block2_add[0][0]']       \n",
      "                                                                                                  \n",
      " conv5_block3_1_conv (Conv2D)   (None, 7, 7, 512)    1049088     ['conv5_block2_out[0][0]']       \n",
      "                                                                                                  \n",
      " conv5_block3_1_bn (BatchNormal  (None, 7, 7, 512)   2048        ['conv5_block3_1_conv[0][0]']    \n",
      " ization)                                                                                         \n",
      "                                                                                                  \n",
      " conv5_block3_1_relu (Activatio  (None, 7, 7, 512)   0           ['conv5_block3_1_bn[0][0]']      \n",
      " n)                                                                                               \n",
      "                                                                                                  \n",
      " conv5_block3_2_conv (Conv2D)   (None, 7, 7, 512)    2359808     ['conv5_block3_1_relu[0][0]']    \n",
      "                                                                                                  \n",
      " conv5_block3_2_bn (BatchNormal  (None, 7, 7, 512)   2048        ['conv5_block3_2_conv[0][0]']    \n",
      " ization)                                                                                         \n",
      "                                                                                                  \n",
      " conv5_block3_2_relu (Activatio  (None, 7, 7, 512)   0           ['conv5_block3_2_bn[0][0]']      \n",
      " n)                                                                                               \n",
      "                                                                                                  \n",
      " conv5_block3_3_conv (Conv2D)   (None, 7, 7, 2048)   1050624     ['conv5_block3_2_relu[0][0]']    \n",
      "                                                                                                  \n",
      " conv5_block3_3_bn (BatchNormal  (None, 7, 7, 2048)  8192        ['conv5_block3_3_conv[0][0]']    \n",
      " ization)                                                                                         \n",
      "                                                                                                  \n",
      " conv5_block3_add (Add)         (None, 7, 7, 2048)   0           ['conv5_block2_out[0][0]',       \n",
      "                                                                  'conv5_block3_3_bn[0][0]']      \n",
      "                                                                                                  \n",
      " conv5_block3_out (Activation)  (None, 7, 7, 2048)   0           ['conv5_block3_add[0][0]']       \n",
      "                                                                                                  \n",
      " flatten_1 (Flatten)            (None, 100352)       0           ['conv5_block3_out[0][0]']       \n",
      "                                                                                                  \n",
      " dense_1 (Dense)                (None, 16)           1605648     ['flatten_1[0][0]']              \n",
      "                                                                                                  \n",
      "==================================================================================================\n",
      "Total params: 25,193,360\n",
      "Trainable params: 25,140,240\n",
      "Non-trainable params: 53,120\n",
      "__________________________________________________________________________________________________\n"
     ]
    }
   ],
   "source": [
    "res_model.summary()"
   ]
  },
  {
   "cell_type": "code",
   "execution_count": 27,
   "metadata": {
    "executionInfo": {
     "elapsed": 4,
     "status": "ok",
     "timestamp": 1686125868893,
     "user": {
      "displayName": "Debarghya Mondal",
      "userId": "05726982114662597778"
     },
     "user_tz": -330
    },
    "id": "_WlzneDDi1iy"
   },
   "outputs": [],
   "source": [
    "res_model.compile(loss='categorical_crossentropy',optimizer='adam',metrics=['accuracy'])"
   ]
  },
  {
   "cell_type": "code",
   "execution_count": 28,
   "metadata": {
    "colab": {
     "base_uri": "https://localhost:8080/"
    },
    "executionInfo": {
     "elapsed": 1165797,
     "status": "ok",
     "timestamp": 1686127034687,
     "user": {
      "displayName": "Debarghya Mondal",
      "userId": "05726982114662597778"
     },
     "user_tz": -330
    },
    "id": "w34Z-PYHi-mF",
    "outputId": "a58c8eae-35a8-4439-88d6-8e223756292e"
   },
   "outputs": [
    {
     "name": "stdout",
     "output_type": "stream",
     "text": [
      "Epoch 1/10\n",
      "7/7 [==============================] - 145s 15s/step - loss: 15.9062 - accuracy: 0.2000 - val_loss: 101.7114 - val_accuracy: 0.0573\n",
      "Epoch 2/10\n",
      "7/7 [==============================] - 92s 14s/step - loss: 8.1270 - accuracy: 0.4933 - val_loss: 1438412.2500 - val_accuracy: 0.0573\n",
      "Epoch 3/10\n",
      "7/7 [==============================] - 92s 14s/step - loss: 7.5458 - accuracy: 0.4533 - val_loss: 5777523.0000 - val_accuracy: 0.1274\n",
      "Epoch 4/10\n",
      "7/7 [==============================] - 122s 19s/step - loss: 4.0220 - accuracy: 0.5467 - val_loss: 7797352.5000 - val_accuracy: 0.0510\n",
      "Epoch 5/10\n",
      "7/7 [==============================] - 91s 14s/step - loss: 6.7724 - accuracy: 0.6333 - val_loss: 2681508.5000 - val_accuracy: 0.1274\n",
      "Epoch 6/10\n",
      "7/7 [==============================] - 90s 14s/step - loss: 10.9263 - accuracy: 0.5067 - val_loss: 10694477.0000 - val_accuracy: 0.1274\n",
      "Epoch 7/10\n",
      "7/7 [==============================] - 93s 14s/step - loss: 2.5144 - accuracy: 0.5667 - val_loss: 128072608.0000 - val_accuracy: 0.1274\n",
      "Epoch 8/10\n",
      "7/7 [==============================] - 91s 14s/step - loss: 2.1205 - accuracy: 0.6333 - val_loss: 52614392.0000 - val_accuracy: 0.1274\n",
      "Epoch 9/10\n",
      "7/7 [==============================] - 90s 14s/step - loss: 1.8227 - accuracy: 0.6800 - val_loss: 355240640.0000 - val_accuracy: 0.1274\n",
      "Epoch 10/10\n",
      "7/7 [==============================] - 93s 14s/step - loss: 3.5036 - accuracy: 0.6867 - val_loss: 752114048.0000 - val_accuracy: 0.1274\n"
     ]
    },
    {
     "data": {
      "text/plain": [
       "<keras.callbacks.History at 0x7f5667e4e4a0>"
      ]
     },
     "execution_count": 28,
     "metadata": {},
     "output_type": "execute_result"
    }
   ],
   "source": [
    "res_model.fit(train,epochs=10,validation_data=test,steps_per_epoch=len(train),\n",
    "              validation_steps=len(test))"
   ]
  },
  {
   "cell_type": "markdown",
   "metadata": {
    "id": "JF120vYeBs9y"
   },
   "source": [
    "### VGG16 gives higher val_accuracy."
   ]
  },
  {
   "cell_type": "code",
   "execution_count": 29,
   "metadata": {
    "executionInfo": {
     "elapsed": 923,
     "status": "ok",
     "timestamp": 1686128851189,
     "user": {
      "displayName": "Debarghya Mondal",
      "userId": "05726982114662597778"
     },
     "user_tz": -330
    },
    "id": "lviYFe2VGyWa"
   },
   "outputs": [],
   "source": [
    "import numpy as np\n",
    "from tensorflow.keras.preprocessing import image"
   ]
  },
  {
   "cell_type": "code",
   "execution_count": 30,
   "metadata": {
    "colab": {
     "base_uri": "https://localhost:8080/"
    },
    "executionInfo": {
     "elapsed": 1520,
     "status": "ok",
     "timestamp": 1686128982189,
     "user": {
      "displayName": "Debarghya Mondal",
      "userId": "05726982114662597778"
     },
     "user_tz": -330
    },
    "id": "G8MDKFHCB8Zt",
    "outputId": "a23d8fc2-60ba-4deb-bef8-dad16a055e65"
   },
   "outputs": [
    {
     "name": "stdout",
     "output_type": "stream",
     "text": [
      "1/1 [==============================] - 1s 716ms/step\n",
      "4\n",
      "bird-4\n"
     ]
    }
   ],
   "source": [
    "img = image.load_img('/content/bird-img.jpg',target_size=(224,224))\n",
    "img = image.img_to_array(img)\n",
    "img = np.expand_dims(img,axis=0)\n",
    "pred = np.argmax(model.predict(img))\n",
    "print(pred)\n",
    "output = ['bird-0','bird-1','bird-2','bird-3','bird-4','bird-5','bird-6','bird-7','bird-8','bird-9','bird-10','bird-11','bird-12','bird-13','bird-14','bird-15']\n",
    "print(output[pred])"
   ]
  }
 ],
 "metadata": {
  "accelerator": "GPU",
  "colab": {
   "authorship_tag": "ABX9TyPu1bwmz8JWUioGvmPWfIxq",
   "gpuType": "T4",
   "provenance": []
  },
  "kernelspec": {
   "display_name": "Python 3 (ipykernel)",
   "language": "python",
   "name": "python3"
  },
  "language_info": {
   "codemirror_mode": {
    "name": "ipython",
    "version": 3
   },
   "file_extension": ".py",
   "mimetype": "text/x-python",
   "name": "python",
   "nbconvert_exporter": "python",
   "pygments_lexer": "ipython3",
   "version": "3.8.15"
  }
 },
 "nbformat": 4,
 "nbformat_minor": 1
}
